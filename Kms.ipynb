{
 "cells": [
  {
   "cell_type": "code",
   "execution_count": 89,
   "source": [
    "\r\n",
    "import pandas as pd\r\n",
    "import numpy as np\r\n",
    "import geopy\r\n",
    "from geopy.geocoders import Nominatim\r\n",
    "import time\r\n",
    "import math\r\n",
    "from geopy.distance import geodesic\r\n",
    "\r\n",
    "from sklearn import linear_model\r\n",
    "from sklearn import model_selection\r\n",
    "\r\n",
    "\r\n",
    "\r\n",
    "import tensorflow as tf\r\n",
    "\r\n",
    "\r\n",
    "from haversine import haversine, Unit \r\n"
   ],
   "outputs": [],
   "metadata": {}
  },
  {
   "cell_type": "code",
   "execution_count": 2,
   "source": [
    "DataDirectory = \"C:/Users/fabia/Documents/Python/Primer Trabajo/Entel Datathon/\"\r\n",
    "RawTrain = \"train.csv\"\r\n",
    "RawTest = \"test.csv\"\r\n",
    "\r\n",
    "Data1Dir = DataDirectory + RawTrain\r\n",
    "Data2Dir = DataDirectory + RawTest \r\n",
    "RawData = pd.read_csv(Data1Dir)\r\n",
    "RawDataTest = pd.read_csv(Data2Dir)\r\n",
    "\r\n",
    "\r\n",
    "RawData"
   ],
   "outputs": [
    {
     "output_type": "execute_result",
     "data": {
      "text/plain": [
       "             ID       FECHA  LATITUD_ORIGEN  LONGITUD_ORIGEN  LATITUD_DESTINO  \\\n",
       "0     124092420  2021-07-28      -11.965070        -77.12269        -12.07020   \n",
       "1     124091219  2021-07-25      -12.155090        -76.97996        -12.07570   \n",
       "2     124091187  2021-07-25      -14.533770        -75.18460        -14.88630   \n",
       "3     124093495  2021-08-01       -5.201517        -80.64635         -5.38453   \n",
       "4     124092156  2021-07-27      -11.967470        -77.12508        -12.03500   \n",
       "...         ...         ...             ...              ...              ...   \n",
       "1981  124091235  2021-07-25      -13.539960        -71.92628        -13.68660   \n",
       "1982  124090340  2021-07-23      -12.155460        -76.98013        -12.07700   \n",
       "1983  124090639  2021-07-23      -17.991940        -70.25442        -18.07740   \n",
       "1984  124090893  2021-07-24       -7.817392        -78.04557         -8.04841   \n",
       "1985  124090018  2021-07-22      -12.155830        -76.98000        -12.13913   \n",
       "\n",
       "      LONGITUD_DESTINO  DISTANCIA   TIEMPO  \n",
       "0            -77.13524    14747.0   1775.0  \n",
       "1            -76.91754    17171.0   1821.0  \n",
       "2            -74.99414    58708.0   3842.0  \n",
       "3            -80.62314    23611.0   1446.0  \n",
       "4            -77.07444    14229.0   1974.0  \n",
       "...                ...        ...      ...  \n",
       "1981         -71.64474    37865.0   2939.0  \n",
       "1982         -77.01974    14680.0   1547.0  \n",
       "1983         -70.30064    12503.0   1367.0  \n",
       "1984         -79.06494   188052.0  15035.0  \n",
       "1985         -76.99422     4358.0    725.0  \n",
       "\n",
       "[1986 rows x 8 columns]"
      ],
      "text/html": [
       "<div>\n",
       "<style scoped>\n",
       "    .dataframe tbody tr th:only-of-type {\n",
       "        vertical-align: middle;\n",
       "    }\n",
       "\n",
       "    .dataframe tbody tr th {\n",
       "        vertical-align: top;\n",
       "    }\n",
       "\n",
       "    .dataframe thead th {\n",
       "        text-align: right;\n",
       "    }\n",
       "</style>\n",
       "<table border=\"1\" class=\"dataframe\">\n",
       "  <thead>\n",
       "    <tr style=\"text-align: right;\">\n",
       "      <th></th>\n",
       "      <th>ID</th>\n",
       "      <th>FECHA</th>\n",
       "      <th>LATITUD_ORIGEN</th>\n",
       "      <th>LONGITUD_ORIGEN</th>\n",
       "      <th>LATITUD_DESTINO</th>\n",
       "      <th>LONGITUD_DESTINO</th>\n",
       "      <th>DISTANCIA</th>\n",
       "      <th>TIEMPO</th>\n",
       "    </tr>\n",
       "  </thead>\n",
       "  <tbody>\n",
       "    <tr>\n",
       "      <th>0</th>\n",
       "      <td>124092420</td>\n",
       "      <td>2021-07-28</td>\n",
       "      <td>-11.965070</td>\n",
       "      <td>-77.12269</td>\n",
       "      <td>-12.07020</td>\n",
       "      <td>-77.13524</td>\n",
       "      <td>14747.0</td>\n",
       "      <td>1775.0</td>\n",
       "    </tr>\n",
       "    <tr>\n",
       "      <th>1</th>\n",
       "      <td>124091219</td>\n",
       "      <td>2021-07-25</td>\n",
       "      <td>-12.155090</td>\n",
       "      <td>-76.97996</td>\n",
       "      <td>-12.07570</td>\n",
       "      <td>-76.91754</td>\n",
       "      <td>17171.0</td>\n",
       "      <td>1821.0</td>\n",
       "    </tr>\n",
       "    <tr>\n",
       "      <th>2</th>\n",
       "      <td>124091187</td>\n",
       "      <td>2021-07-25</td>\n",
       "      <td>-14.533770</td>\n",
       "      <td>-75.18460</td>\n",
       "      <td>-14.88630</td>\n",
       "      <td>-74.99414</td>\n",
       "      <td>58708.0</td>\n",
       "      <td>3842.0</td>\n",
       "    </tr>\n",
       "    <tr>\n",
       "      <th>3</th>\n",
       "      <td>124093495</td>\n",
       "      <td>2021-08-01</td>\n",
       "      <td>-5.201517</td>\n",
       "      <td>-80.64635</td>\n",
       "      <td>-5.38453</td>\n",
       "      <td>-80.62314</td>\n",
       "      <td>23611.0</td>\n",
       "      <td>1446.0</td>\n",
       "    </tr>\n",
       "    <tr>\n",
       "      <th>4</th>\n",
       "      <td>124092156</td>\n",
       "      <td>2021-07-27</td>\n",
       "      <td>-11.967470</td>\n",
       "      <td>-77.12508</td>\n",
       "      <td>-12.03500</td>\n",
       "      <td>-77.07444</td>\n",
       "      <td>14229.0</td>\n",
       "      <td>1974.0</td>\n",
       "    </tr>\n",
       "    <tr>\n",
       "      <th>...</th>\n",
       "      <td>...</td>\n",
       "      <td>...</td>\n",
       "      <td>...</td>\n",
       "      <td>...</td>\n",
       "      <td>...</td>\n",
       "      <td>...</td>\n",
       "      <td>...</td>\n",
       "      <td>...</td>\n",
       "    </tr>\n",
       "    <tr>\n",
       "      <th>1981</th>\n",
       "      <td>124091235</td>\n",
       "      <td>2021-07-25</td>\n",
       "      <td>-13.539960</td>\n",
       "      <td>-71.92628</td>\n",
       "      <td>-13.68660</td>\n",
       "      <td>-71.64474</td>\n",
       "      <td>37865.0</td>\n",
       "      <td>2939.0</td>\n",
       "    </tr>\n",
       "    <tr>\n",
       "      <th>1982</th>\n",
       "      <td>124090340</td>\n",
       "      <td>2021-07-23</td>\n",
       "      <td>-12.155460</td>\n",
       "      <td>-76.98013</td>\n",
       "      <td>-12.07700</td>\n",
       "      <td>-77.01974</td>\n",
       "      <td>14680.0</td>\n",
       "      <td>1547.0</td>\n",
       "    </tr>\n",
       "    <tr>\n",
       "      <th>1983</th>\n",
       "      <td>124090639</td>\n",
       "      <td>2021-07-23</td>\n",
       "      <td>-17.991940</td>\n",
       "      <td>-70.25442</td>\n",
       "      <td>-18.07740</td>\n",
       "      <td>-70.30064</td>\n",
       "      <td>12503.0</td>\n",
       "      <td>1367.0</td>\n",
       "    </tr>\n",
       "    <tr>\n",
       "      <th>1984</th>\n",
       "      <td>124090893</td>\n",
       "      <td>2021-07-24</td>\n",
       "      <td>-7.817392</td>\n",
       "      <td>-78.04557</td>\n",
       "      <td>-8.04841</td>\n",
       "      <td>-79.06494</td>\n",
       "      <td>188052.0</td>\n",
       "      <td>15035.0</td>\n",
       "    </tr>\n",
       "    <tr>\n",
       "      <th>1985</th>\n",
       "      <td>124090018</td>\n",
       "      <td>2021-07-22</td>\n",
       "      <td>-12.155830</td>\n",
       "      <td>-76.98000</td>\n",
       "      <td>-12.13913</td>\n",
       "      <td>-76.99422</td>\n",
       "      <td>4358.0</td>\n",
       "      <td>725.0</td>\n",
       "    </tr>\n",
       "  </tbody>\n",
       "</table>\n",
       "<p>1986 rows × 8 columns</p>\n",
       "</div>"
      ]
     },
     "metadata": {},
     "execution_count": 2
    }
   ],
   "metadata": {}
  },
  {
   "cell_type": "code",
   "execution_count": 7,
   "source": [
    "DataDirectory = \"C:/Users/fabia/Documents/Python/Primer Trabajo/Entel Datathon/\"\r\n",
    "RawTrain = \"train.csv\"\r\n",
    "RawTest = \"test.csv\"\r\n",
    "\r\n",
    "Data1Dir = DataDirectory + RawTrain\r\n",
    "Data2Dir = DataDirectory + RawTest \r\n",
    "\r\n",
    "\r\n",
    "\r\n"
   ],
   "outputs": [],
   "metadata": {}
  },
  {
   "cell_type": "code",
   "execution_count": 8,
   "source": [
    "\r\n",
    "FirstryData = RawData.copy()\r\n",
    "FirstryDataTest = RawDataTest.copy()\r\n",
    "\r\n",
    "\r\n",
    "RawData = pd.read_csv(Data1Dir)\r\n",
    "RawDataTest = pd.read_csv(Data2Dir)\r\n"
   ],
   "outputs": [],
   "metadata": {}
  },
  {
   "cell_type": "code",
   "execution_count": null,
   "source": [
    "\r\n",
    "Origin_One= (-12.155830,-76.98000)\r\n",
    "Destination_One = (-12.13913,-76.99422)\r\n",
    "\r\n",
    "distance = geopy.distance.geodesic(Origin_One, Destination_One)\r\n",
    "\r\n",
    "print(str(distance), \" y \", haversine(Origin_One, Destination_One))\r\n",
    "\r\n",
    "\r\n",
    "\r\n",
    "\r\n"
   ],
   "outputs": [
    {
     "output_type": "stream",
     "name": "stdout",
     "text": [
      "2.410073958891489 km  y  2.4161454018820696\n"
     ]
    }
   ],
   "metadata": {}
  },
  {
   "cell_type": "code",
   "execution_count": 9,
   "source": [
    "# ML\r\n",
    "\r\n",
    "capa= tf.keras.layers.Dense(units=1,input_shape=[1])\r\n",
    "modelo= tf.keras.Sequential([capa])\r\n"
   ],
   "outputs": [],
   "metadata": {}
  },
  {
   "cell_type": "code",
   "execution_count": 10,
   "source": [
    "modelo.compile(\r\n",
    "    optimizer=tf.keras.optimizers.Adam(0.1),\r\n",
    "    loss='mean_squared_error'\r\n",
    ")"
   ],
   "outputs": [],
   "metadata": {}
  },
  {
   "cell_type": "code",
   "execution_count": 11,
   "source": [
    "print(\"Comenzando entrenamiento....\")\r\n",
    "historial = modelo.fit(FirstryData['DISTANCIA'],FirstryData['TIEMPO'],epochs=1000,verbose=False)\r\n",
    "print(\"Modelo Entrenado!\")"
   ],
   "outputs": [
    {
     "output_type": "stream",
     "name": "stdout",
     "text": [
      "Comenzando entrenamiento....\n",
      "Modelo Entrenado!\n"
     ]
    }
   ],
   "metadata": {}
  },
  {
   "cell_type": "code",
   "execution_count": 12,
   "source": [
    "#ML\r\n",
    "import matplotlib.pyplot as plt\r\n",
    "plt.xlabel(\"# Epoca\")\r\n",
    "plt.ylabel(\"Magnitud de perdida\")\r\n",
    "plt.plot(historial.history[\"loss\"])"
   ],
   "outputs": [
    {
     "output_type": "execute_result",
     "data": {
      "text/plain": [
       "[<matplotlib.lines.Line2D at 0x1fd0c6934f0>]"
      ]
     },
     "metadata": {},
     "execution_count": 12
    },
    {
     "output_type": "display_data",
     "data": {
      "text/plain": [
       "<Figure size 432x288 with 1 Axes>"
      ],
      "image/svg+xml": "<?xml version=\"1.0\" encoding=\"utf-8\" standalone=\"no\"?>\r\n<!DOCTYPE svg PUBLIC \"-//W3C//DTD SVG 1.1//EN\"\r\n  \"http://www.w3.org/Graphics/SVG/1.1/DTD/svg11.dtd\">\r\n<svg height=\"272.794688pt\" version=\"1.1\" viewBox=\"0 0 385.78125 272.794688\" width=\"385.78125pt\" xmlns=\"http://www.w3.org/2000/svg\" xmlns:xlink=\"http://www.w3.org/1999/xlink\">\r\n <metadata>\r\n  <rdf:RDF xmlns:cc=\"http://creativecommons.org/ns#\" xmlns:dc=\"http://purl.org/dc/elements/1.1/\" xmlns:rdf=\"http://www.w3.org/1999/02/22-rdf-syntax-ns#\">\r\n   <cc:Work>\r\n    <dc:type rdf:resource=\"http://purl.org/dc/dcmitype/StillImage\"/>\r\n    <dc:date>2021-08-11T21:25:24.849347</dc:date>\r\n    <dc:format>image/svg+xml</dc:format>\r\n    <dc:creator>\r\n     <cc:Agent>\r\n      <dc:title>Matplotlib v3.4.2, https://matplotlib.org/</dc:title>\r\n     </cc:Agent>\r\n    </dc:creator>\r\n   </cc:Work>\r\n  </rdf:RDF>\r\n </metadata>\r\n <defs>\r\n  <style type=\"text/css\">*{stroke-linecap:butt;stroke-linejoin:round;}</style>\r\n </defs>\r\n <g id=\"figure_1\">\r\n  <g id=\"patch_1\">\r\n   <path d=\"M 0 272.794688 \r\nL 385.78125 272.794688 \r\nL 385.78125 0 \r\nL 0 0 \r\nz\r\n\" style=\"fill:none;\"/>\r\n  </g>\r\n  <g id=\"axes_1\">\r\n   <g id=\"patch_2\">\r\n    <path d=\"M 43.78125 235.238438 \r\nL 378.58125 235.238438 \r\nL 378.58125 17.798438 \r\nL 43.78125 17.798438 \r\nz\r\n\" style=\"fill:#ffffff;\"/>\r\n   </g>\r\n   <g id=\"matplotlib.axis_1\">\r\n    <g id=\"xtick_1\">\r\n     <g id=\"line2d_1\">\r\n      <defs>\r\n       <path d=\"M 0 0 \r\nL 0 3.5 \r\n\" id=\"mf8641daf3d\" style=\"stroke:#000000;stroke-width:0.8;\"/>\r\n      </defs>\r\n      <g>\r\n       <use style=\"stroke:#000000;stroke-width:0.8;\" x=\"58.999432\" xlink:href=\"#mf8641daf3d\" y=\"235.238438\"/>\r\n      </g>\r\n     </g>\r\n     <g id=\"text_1\">\r\n      <!-- 0 -->\r\n      <g transform=\"translate(55.818182 249.836875)scale(0.1 -0.1)\">\r\n       <defs>\r\n        <path d=\"M 2034 4250 \r\nQ 1547 4250 1301 3770 \r\nQ 1056 3291 1056 2328 \r\nQ 1056 1369 1301 889 \r\nQ 1547 409 2034 409 \r\nQ 2525 409 2770 889 \r\nQ 3016 1369 3016 2328 \r\nQ 3016 3291 2770 3770 \r\nQ 2525 4250 2034 4250 \r\nz\r\nM 2034 4750 \r\nQ 2819 4750 3233 4129 \r\nQ 3647 3509 3647 2328 \r\nQ 3647 1150 3233 529 \r\nQ 2819 -91 2034 -91 \r\nQ 1250 -91 836 529 \r\nQ 422 1150 422 2328 \r\nQ 422 3509 836 4129 \r\nQ 1250 4750 2034 4750 \r\nz\r\n\" id=\"DejaVuSans-30\" transform=\"scale(0.015625)\"/>\r\n       </defs>\r\n       <use xlink:href=\"#DejaVuSans-30\"/>\r\n      </g>\r\n     </g>\r\n    </g>\r\n    <g id=\"xtick_2\">\r\n     <g id=\"line2d_2\">\r\n      <g>\r\n       <use style=\"stroke:#000000;stroke-width:0.8;\" x=\"119.933093\" xlink:href=\"#mf8641daf3d\" y=\"235.238438\"/>\r\n      </g>\r\n     </g>\r\n     <g id=\"text_2\">\r\n      <!-- 200 -->\r\n      <g transform=\"translate(110.389343 249.836875)scale(0.1 -0.1)\">\r\n       <defs>\r\n        <path d=\"M 1228 531 \r\nL 3431 531 \r\nL 3431 0 \r\nL 469 0 \r\nL 469 531 \r\nQ 828 903 1448 1529 \r\nQ 2069 2156 2228 2338 \r\nQ 2531 2678 2651 2914 \r\nQ 2772 3150 2772 3378 \r\nQ 2772 3750 2511 3984 \r\nQ 2250 4219 1831 4219 \r\nQ 1534 4219 1204 4116 \r\nQ 875 4013 500 3803 \r\nL 500 4441 \r\nQ 881 4594 1212 4672 \r\nQ 1544 4750 1819 4750 \r\nQ 2544 4750 2975 4387 \r\nQ 3406 4025 3406 3419 \r\nQ 3406 3131 3298 2873 \r\nQ 3191 2616 2906 2266 \r\nQ 2828 2175 2409 1742 \r\nQ 1991 1309 1228 531 \r\nz\r\n\" id=\"DejaVuSans-32\" transform=\"scale(0.015625)\"/>\r\n       </defs>\r\n       <use xlink:href=\"#DejaVuSans-32\"/>\r\n       <use x=\"63.623047\" xlink:href=\"#DejaVuSans-30\"/>\r\n       <use x=\"127.246094\" xlink:href=\"#DejaVuSans-30\"/>\r\n      </g>\r\n     </g>\r\n    </g>\r\n    <g id=\"xtick_3\">\r\n     <g id=\"line2d_3\">\r\n      <g>\r\n       <use style=\"stroke:#000000;stroke-width:0.8;\" x=\"180.866754\" xlink:href=\"#mf8641daf3d\" y=\"235.238438\"/>\r\n      </g>\r\n     </g>\r\n     <g id=\"text_3\">\r\n      <!-- 400 -->\r\n      <g transform=\"translate(171.323004 249.836875)scale(0.1 -0.1)\">\r\n       <defs>\r\n        <path d=\"M 2419 4116 \r\nL 825 1625 \r\nL 2419 1625 \r\nL 2419 4116 \r\nz\r\nM 2253 4666 \r\nL 3047 4666 \r\nL 3047 1625 \r\nL 3713 1625 \r\nL 3713 1100 \r\nL 3047 1100 \r\nL 3047 0 \r\nL 2419 0 \r\nL 2419 1100 \r\nL 313 1100 \r\nL 313 1709 \r\nL 2253 4666 \r\nz\r\n\" id=\"DejaVuSans-34\" transform=\"scale(0.015625)\"/>\r\n       </defs>\r\n       <use xlink:href=\"#DejaVuSans-34\"/>\r\n       <use x=\"63.623047\" xlink:href=\"#DejaVuSans-30\"/>\r\n       <use x=\"127.246094\" xlink:href=\"#DejaVuSans-30\"/>\r\n      </g>\r\n     </g>\r\n    </g>\r\n    <g id=\"xtick_4\">\r\n     <g id=\"line2d_4\">\r\n      <g>\r\n       <use style=\"stroke:#000000;stroke-width:0.8;\" x=\"241.800415\" xlink:href=\"#mf8641daf3d\" y=\"235.238438\"/>\r\n      </g>\r\n     </g>\r\n     <g id=\"text_4\">\r\n      <!-- 600 -->\r\n      <g transform=\"translate(232.256665 249.836875)scale(0.1 -0.1)\">\r\n       <defs>\r\n        <path d=\"M 2113 2584 \r\nQ 1688 2584 1439 2293 \r\nQ 1191 2003 1191 1497 \r\nQ 1191 994 1439 701 \r\nQ 1688 409 2113 409 \r\nQ 2538 409 2786 701 \r\nQ 3034 994 3034 1497 \r\nQ 3034 2003 2786 2293 \r\nQ 2538 2584 2113 2584 \r\nz\r\nM 3366 4563 \r\nL 3366 3988 \r\nQ 3128 4100 2886 4159 \r\nQ 2644 4219 2406 4219 \r\nQ 1781 4219 1451 3797 \r\nQ 1122 3375 1075 2522 \r\nQ 1259 2794 1537 2939 \r\nQ 1816 3084 2150 3084 \r\nQ 2853 3084 3261 2657 \r\nQ 3669 2231 3669 1497 \r\nQ 3669 778 3244 343 \r\nQ 2819 -91 2113 -91 \r\nQ 1303 -91 875 529 \r\nQ 447 1150 447 2328 \r\nQ 447 3434 972 4092 \r\nQ 1497 4750 2381 4750 \r\nQ 2619 4750 2861 4703 \r\nQ 3103 4656 3366 4563 \r\nz\r\n\" id=\"DejaVuSans-36\" transform=\"scale(0.015625)\"/>\r\n       </defs>\r\n       <use xlink:href=\"#DejaVuSans-36\"/>\r\n       <use x=\"63.623047\" xlink:href=\"#DejaVuSans-30\"/>\r\n       <use x=\"127.246094\" xlink:href=\"#DejaVuSans-30\"/>\r\n      </g>\r\n     </g>\r\n    </g>\r\n    <g id=\"xtick_5\">\r\n     <g id=\"line2d_5\">\r\n      <g>\r\n       <use style=\"stroke:#000000;stroke-width:0.8;\" x=\"302.734076\" xlink:href=\"#mf8641daf3d\" y=\"235.238438\"/>\r\n      </g>\r\n     </g>\r\n     <g id=\"text_5\">\r\n      <!-- 800 -->\r\n      <g transform=\"translate(293.190326 249.836875)scale(0.1 -0.1)\">\r\n       <defs>\r\n        <path d=\"M 2034 2216 \r\nQ 1584 2216 1326 1975 \r\nQ 1069 1734 1069 1313 \r\nQ 1069 891 1326 650 \r\nQ 1584 409 2034 409 \r\nQ 2484 409 2743 651 \r\nQ 3003 894 3003 1313 \r\nQ 3003 1734 2745 1975 \r\nQ 2488 2216 2034 2216 \r\nz\r\nM 1403 2484 \r\nQ 997 2584 770 2862 \r\nQ 544 3141 544 3541 \r\nQ 544 4100 942 4425 \r\nQ 1341 4750 2034 4750 \r\nQ 2731 4750 3128 4425 \r\nQ 3525 4100 3525 3541 \r\nQ 3525 3141 3298 2862 \r\nQ 3072 2584 2669 2484 \r\nQ 3125 2378 3379 2068 \r\nQ 3634 1759 3634 1313 \r\nQ 3634 634 3220 271 \r\nQ 2806 -91 2034 -91 \r\nQ 1263 -91 848 271 \r\nQ 434 634 434 1313 \r\nQ 434 1759 690 2068 \r\nQ 947 2378 1403 2484 \r\nz\r\nM 1172 3481 \r\nQ 1172 3119 1398 2916 \r\nQ 1625 2713 2034 2713 \r\nQ 2441 2713 2670 2916 \r\nQ 2900 3119 2900 3481 \r\nQ 2900 3844 2670 4047 \r\nQ 2441 4250 2034 4250 \r\nQ 1625 4250 1398 4047 \r\nQ 1172 3844 1172 3481 \r\nz\r\n\" id=\"DejaVuSans-38\" transform=\"scale(0.015625)\"/>\r\n       </defs>\r\n       <use xlink:href=\"#DejaVuSans-38\"/>\r\n       <use x=\"63.623047\" xlink:href=\"#DejaVuSans-30\"/>\r\n       <use x=\"127.246094\" xlink:href=\"#DejaVuSans-30\"/>\r\n      </g>\r\n     </g>\r\n    </g>\r\n    <g id=\"xtick_6\">\r\n     <g id=\"line2d_6\">\r\n      <g>\r\n       <use style=\"stroke:#000000;stroke-width:0.8;\" x=\"363.667736\" xlink:href=\"#mf8641daf3d\" y=\"235.238438\"/>\r\n      </g>\r\n     </g>\r\n     <g id=\"text_6\">\r\n      <!-- 1000 -->\r\n      <g transform=\"translate(350.942736 249.836875)scale(0.1 -0.1)\">\r\n       <defs>\r\n        <path d=\"M 794 531 \r\nL 1825 531 \r\nL 1825 4091 \r\nL 703 3866 \r\nL 703 4441 \r\nL 1819 4666 \r\nL 2450 4666 \r\nL 2450 531 \r\nL 3481 531 \r\nL 3481 0 \r\nL 794 0 \r\nL 794 531 \r\nz\r\n\" id=\"DejaVuSans-31\" transform=\"scale(0.015625)\"/>\r\n       </defs>\r\n       <use xlink:href=\"#DejaVuSans-31\"/>\r\n       <use x=\"63.623047\" xlink:href=\"#DejaVuSans-30\"/>\r\n       <use x=\"127.246094\" xlink:href=\"#DejaVuSans-30\"/>\r\n       <use x=\"190.869141\" xlink:href=\"#DejaVuSans-30\"/>\r\n      </g>\r\n     </g>\r\n    </g>\r\n    <g id=\"text_7\">\r\n     <!-- # Epoca -->\r\n     <g transform=\"translate(190.196094 263.515)scale(0.1 -0.1)\">\r\n      <defs>\r\n       <path d=\"M 3272 2816 \r\nL 2363 2816 \r\nL 2100 1772 \r\nL 3016 1772 \r\nL 3272 2816 \r\nz\r\nM 2803 4594 \r\nL 2478 3297 \r\nL 3391 3297 \r\nL 3719 4594 \r\nL 4219 4594 \r\nL 3897 3297 \r\nL 4872 3297 \r\nL 4872 2816 \r\nL 3775 2816 \r\nL 3519 1772 \r\nL 4513 1772 \r\nL 4513 1294 \r\nL 3397 1294 \r\nL 3072 0 \r\nL 2572 0 \r\nL 2894 1294 \r\nL 1978 1294 \r\nL 1656 0 \r\nL 1153 0 \r\nL 1478 1294 \r\nL 494 1294 \r\nL 494 1772 \r\nL 1594 1772 \r\nL 1856 2816 \r\nL 850 2816 \r\nL 850 3297 \r\nL 1978 3297 \r\nL 2297 4594 \r\nL 2803 4594 \r\nz\r\n\" id=\"DejaVuSans-23\" transform=\"scale(0.015625)\"/>\r\n       <path id=\"DejaVuSans-20\" transform=\"scale(0.015625)\"/>\r\n       <path d=\"M 628 4666 \r\nL 3578 4666 \r\nL 3578 4134 \r\nL 1259 4134 \r\nL 1259 2753 \r\nL 3481 2753 \r\nL 3481 2222 \r\nL 1259 2222 \r\nL 1259 531 \r\nL 3634 531 \r\nL 3634 0 \r\nL 628 0 \r\nL 628 4666 \r\nz\r\n\" id=\"DejaVuSans-45\" transform=\"scale(0.015625)\"/>\r\n       <path d=\"M 1159 525 \r\nL 1159 -1331 \r\nL 581 -1331 \r\nL 581 3500 \r\nL 1159 3500 \r\nL 1159 2969 \r\nQ 1341 3281 1617 3432 \r\nQ 1894 3584 2278 3584 \r\nQ 2916 3584 3314 3078 \r\nQ 3713 2572 3713 1747 \r\nQ 3713 922 3314 415 \r\nQ 2916 -91 2278 -91 \r\nQ 1894 -91 1617 61 \r\nQ 1341 213 1159 525 \r\nz\r\nM 3116 1747 \r\nQ 3116 2381 2855 2742 \r\nQ 2594 3103 2138 3103 \r\nQ 1681 3103 1420 2742 \r\nQ 1159 2381 1159 1747 \r\nQ 1159 1113 1420 752 \r\nQ 1681 391 2138 391 \r\nQ 2594 391 2855 752 \r\nQ 3116 1113 3116 1747 \r\nz\r\n\" id=\"DejaVuSans-70\" transform=\"scale(0.015625)\"/>\r\n       <path d=\"M 1959 3097 \r\nQ 1497 3097 1228 2736 \r\nQ 959 2375 959 1747 \r\nQ 959 1119 1226 758 \r\nQ 1494 397 1959 397 \r\nQ 2419 397 2687 759 \r\nQ 2956 1122 2956 1747 \r\nQ 2956 2369 2687 2733 \r\nQ 2419 3097 1959 3097 \r\nz\r\nM 1959 3584 \r\nQ 2709 3584 3137 3096 \r\nQ 3566 2609 3566 1747 \r\nQ 3566 888 3137 398 \r\nQ 2709 -91 1959 -91 \r\nQ 1206 -91 779 398 \r\nQ 353 888 353 1747 \r\nQ 353 2609 779 3096 \r\nQ 1206 3584 1959 3584 \r\nz\r\n\" id=\"DejaVuSans-6f\" transform=\"scale(0.015625)\"/>\r\n       <path d=\"M 3122 3366 \r\nL 3122 2828 \r\nQ 2878 2963 2633 3030 \r\nQ 2388 3097 2138 3097 \r\nQ 1578 3097 1268 2742 \r\nQ 959 2388 959 1747 \r\nQ 959 1106 1268 751 \r\nQ 1578 397 2138 397 \r\nQ 2388 397 2633 464 \r\nQ 2878 531 3122 666 \r\nL 3122 134 \r\nQ 2881 22 2623 -34 \r\nQ 2366 -91 2075 -91 \r\nQ 1284 -91 818 406 \r\nQ 353 903 353 1747 \r\nQ 353 2603 823 3093 \r\nQ 1294 3584 2113 3584 \r\nQ 2378 3584 2631 3529 \r\nQ 2884 3475 3122 3366 \r\nz\r\n\" id=\"DejaVuSans-63\" transform=\"scale(0.015625)\"/>\r\n       <path d=\"M 2194 1759 \r\nQ 1497 1759 1228 1600 \r\nQ 959 1441 959 1056 \r\nQ 959 750 1161 570 \r\nQ 1363 391 1709 391 \r\nQ 2188 391 2477 730 \r\nQ 2766 1069 2766 1631 \r\nL 2766 1759 \r\nL 2194 1759 \r\nz\r\nM 3341 1997 \r\nL 3341 0 \r\nL 2766 0 \r\nL 2766 531 \r\nQ 2569 213 2275 61 \r\nQ 1981 -91 1556 -91 \r\nQ 1019 -91 701 211 \r\nQ 384 513 384 1019 \r\nQ 384 1609 779 1909 \r\nQ 1175 2209 1959 2209 \r\nL 2766 2209 \r\nL 2766 2266 \r\nQ 2766 2663 2505 2880 \r\nQ 2244 3097 1772 3097 \r\nQ 1472 3097 1187 3025 \r\nQ 903 2953 641 2809 \r\nL 641 3341 \r\nQ 956 3463 1253 3523 \r\nQ 1550 3584 1831 3584 \r\nQ 2591 3584 2966 3190 \r\nQ 3341 2797 3341 1997 \r\nz\r\n\" id=\"DejaVuSans-61\" transform=\"scale(0.015625)\"/>\r\n      </defs>\r\n      <use xlink:href=\"#DejaVuSans-23\"/>\r\n      <use x=\"83.789062\" xlink:href=\"#DejaVuSans-20\"/>\r\n      <use x=\"115.576172\" xlink:href=\"#DejaVuSans-45\"/>\r\n      <use x=\"178.759766\" xlink:href=\"#DejaVuSans-70\"/>\r\n      <use x=\"242.236328\" xlink:href=\"#DejaVuSans-6f\"/>\r\n      <use x=\"303.417969\" xlink:href=\"#DejaVuSans-63\"/>\r\n      <use x=\"358.398438\" xlink:href=\"#DejaVuSans-61\"/>\r\n     </g>\r\n    </g>\r\n   </g>\r\n   <g id=\"matplotlib.axis_2\">\r\n    <g id=\"ytick_1\">\r\n     <g id=\"line2d_7\">\r\n      <defs>\r\n       <path d=\"M 0 0 \r\nL -3.5 0 \r\n\" id=\"m4f276dc0dd\" style=\"stroke:#000000;stroke-width:0.8;\"/>\r\n      </defs>\r\n      <g>\r\n       <use style=\"stroke:#000000;stroke-width:0.8;\" x=\"43.78125\" xlink:href=\"#m4f276dc0dd\" y=\"225.506146\"/>\r\n      </g>\r\n     </g>\r\n     <g id=\"text_8\">\r\n      <!-- 0.0 -->\r\n      <g transform=\"translate(20.878125 229.305365)scale(0.1 -0.1)\">\r\n       <defs>\r\n        <path d=\"M 684 794 \r\nL 1344 794 \r\nL 1344 0 \r\nL 684 0 \r\nL 684 794 \r\nz\r\n\" id=\"DejaVuSans-2e\" transform=\"scale(0.015625)\"/>\r\n       </defs>\r\n       <use xlink:href=\"#DejaVuSans-30\"/>\r\n       <use x=\"63.623047\" xlink:href=\"#DejaVuSans-2e\"/>\r\n       <use x=\"95.410156\" xlink:href=\"#DejaVuSans-30\"/>\r\n      </g>\r\n     </g>\r\n    </g>\r\n    <g id=\"ytick_2\">\r\n     <g id=\"line2d_8\">\r\n      <g>\r\n       <use style=\"stroke:#000000;stroke-width:0.8;\" x=\"43.78125\" xlink:href=\"#m4f276dc0dd\" y=\"178.797753\"/>\r\n      </g>\r\n     </g>\r\n     <g id=\"text_9\">\r\n      <!-- 0.5 -->\r\n      <g transform=\"translate(20.878125 182.596972)scale(0.1 -0.1)\">\r\n       <defs>\r\n        <path d=\"M 691 4666 \r\nL 3169 4666 \r\nL 3169 4134 \r\nL 1269 4134 \r\nL 1269 2991 \r\nQ 1406 3038 1543 3061 \r\nQ 1681 3084 1819 3084 \r\nQ 2600 3084 3056 2656 \r\nQ 3513 2228 3513 1497 \r\nQ 3513 744 3044 326 \r\nQ 2575 -91 1722 -91 \r\nQ 1428 -91 1123 -41 \r\nQ 819 9 494 109 \r\nL 494 744 \r\nQ 775 591 1075 516 \r\nQ 1375 441 1709 441 \r\nQ 2250 441 2565 725 \r\nQ 2881 1009 2881 1497 \r\nQ 2881 1984 2565 2268 \r\nQ 2250 2553 1709 2553 \r\nQ 1456 2553 1204 2497 \r\nQ 953 2441 691 2322 \r\nL 691 4666 \r\nz\r\n\" id=\"DejaVuSans-35\" transform=\"scale(0.015625)\"/>\r\n       </defs>\r\n       <use xlink:href=\"#DejaVuSans-30\"/>\r\n       <use x=\"63.623047\" xlink:href=\"#DejaVuSans-2e\"/>\r\n       <use x=\"95.410156\" xlink:href=\"#DejaVuSans-35\"/>\r\n      </g>\r\n     </g>\r\n    </g>\r\n    <g id=\"ytick_3\">\r\n     <g id=\"line2d_9\">\r\n      <g>\r\n       <use style=\"stroke:#000000;stroke-width:0.8;\" x=\"43.78125\" xlink:href=\"#m4f276dc0dd\" y=\"132.089361\"/>\r\n      </g>\r\n     </g>\r\n     <g id=\"text_10\">\r\n      <!-- 1.0 -->\r\n      <g transform=\"translate(20.878125 135.888579)scale(0.1 -0.1)\">\r\n       <use xlink:href=\"#DejaVuSans-31\"/>\r\n       <use x=\"63.623047\" xlink:href=\"#DejaVuSans-2e\"/>\r\n       <use x=\"95.410156\" xlink:href=\"#DejaVuSans-30\"/>\r\n      </g>\r\n     </g>\r\n    </g>\r\n    <g id=\"ytick_4\">\r\n     <g id=\"line2d_10\">\r\n      <g>\r\n       <use style=\"stroke:#000000;stroke-width:0.8;\" x=\"43.78125\" xlink:href=\"#m4f276dc0dd\" y=\"85.380968\"/>\r\n      </g>\r\n     </g>\r\n     <g id=\"text_11\">\r\n      <!-- 1.5 -->\r\n      <g transform=\"translate(20.878125 89.180187)scale(0.1 -0.1)\">\r\n       <use xlink:href=\"#DejaVuSans-31\"/>\r\n       <use x=\"63.623047\" xlink:href=\"#DejaVuSans-2e\"/>\r\n       <use x=\"95.410156\" xlink:href=\"#DejaVuSans-35\"/>\r\n      </g>\r\n     </g>\r\n    </g>\r\n    <g id=\"ytick_5\">\r\n     <g id=\"line2d_11\">\r\n      <g>\r\n       <use style=\"stroke:#000000;stroke-width:0.8;\" x=\"43.78125\" xlink:href=\"#m4f276dc0dd\" y=\"38.672575\"/>\r\n      </g>\r\n     </g>\r\n     <g id=\"text_12\">\r\n      <!-- 2.0 -->\r\n      <g transform=\"translate(20.878125 42.471794)scale(0.1 -0.1)\">\r\n       <use xlink:href=\"#DejaVuSans-32\"/>\r\n       <use x=\"63.623047\" xlink:href=\"#DejaVuSans-2e\"/>\r\n       <use x=\"95.410156\" xlink:href=\"#DejaVuSans-30\"/>\r\n      </g>\r\n     </g>\r\n    </g>\r\n    <g id=\"text_13\">\r\n     <!-- Magnitud de perdida -->\r\n     <g transform=\"translate(14.798438 178.380938)rotate(-90)scale(0.1 -0.1)\">\r\n      <defs>\r\n       <path d=\"M 628 4666 \r\nL 1569 4666 \r\nL 2759 1491 \r\nL 3956 4666 \r\nL 4897 4666 \r\nL 4897 0 \r\nL 4281 0 \r\nL 4281 4097 \r\nL 3078 897 \r\nL 2444 897 \r\nL 1241 4097 \r\nL 1241 0 \r\nL 628 0 \r\nL 628 4666 \r\nz\r\n\" id=\"DejaVuSans-4d\" transform=\"scale(0.015625)\"/>\r\n       <path d=\"M 2906 1791 \r\nQ 2906 2416 2648 2759 \r\nQ 2391 3103 1925 3103 \r\nQ 1463 3103 1205 2759 \r\nQ 947 2416 947 1791 \r\nQ 947 1169 1205 825 \r\nQ 1463 481 1925 481 \r\nQ 2391 481 2648 825 \r\nQ 2906 1169 2906 1791 \r\nz\r\nM 3481 434 \r\nQ 3481 -459 3084 -895 \r\nQ 2688 -1331 1869 -1331 \r\nQ 1566 -1331 1297 -1286 \r\nQ 1028 -1241 775 -1147 \r\nL 775 -588 \r\nQ 1028 -725 1275 -790 \r\nQ 1522 -856 1778 -856 \r\nQ 2344 -856 2625 -561 \r\nQ 2906 -266 2906 331 \r\nL 2906 616 \r\nQ 2728 306 2450 153 \r\nQ 2172 0 1784 0 \r\nQ 1141 0 747 490 \r\nQ 353 981 353 1791 \r\nQ 353 2603 747 3093 \r\nQ 1141 3584 1784 3584 \r\nQ 2172 3584 2450 3431 \r\nQ 2728 3278 2906 2969 \r\nL 2906 3500 \r\nL 3481 3500 \r\nL 3481 434 \r\nz\r\n\" id=\"DejaVuSans-67\" transform=\"scale(0.015625)\"/>\r\n       <path d=\"M 3513 2113 \r\nL 3513 0 \r\nL 2938 0 \r\nL 2938 2094 \r\nQ 2938 2591 2744 2837 \r\nQ 2550 3084 2163 3084 \r\nQ 1697 3084 1428 2787 \r\nQ 1159 2491 1159 1978 \r\nL 1159 0 \r\nL 581 0 \r\nL 581 3500 \r\nL 1159 3500 \r\nL 1159 2956 \r\nQ 1366 3272 1645 3428 \r\nQ 1925 3584 2291 3584 \r\nQ 2894 3584 3203 3211 \r\nQ 3513 2838 3513 2113 \r\nz\r\n\" id=\"DejaVuSans-6e\" transform=\"scale(0.015625)\"/>\r\n       <path d=\"M 603 3500 \r\nL 1178 3500 \r\nL 1178 0 \r\nL 603 0 \r\nL 603 3500 \r\nz\r\nM 603 4863 \r\nL 1178 4863 \r\nL 1178 4134 \r\nL 603 4134 \r\nL 603 4863 \r\nz\r\n\" id=\"DejaVuSans-69\" transform=\"scale(0.015625)\"/>\r\n       <path d=\"M 1172 4494 \r\nL 1172 3500 \r\nL 2356 3500 \r\nL 2356 3053 \r\nL 1172 3053 \r\nL 1172 1153 \r\nQ 1172 725 1289 603 \r\nQ 1406 481 1766 481 \r\nL 2356 481 \r\nL 2356 0 \r\nL 1766 0 \r\nQ 1100 0 847 248 \r\nQ 594 497 594 1153 \r\nL 594 3053 \r\nL 172 3053 \r\nL 172 3500 \r\nL 594 3500 \r\nL 594 4494 \r\nL 1172 4494 \r\nz\r\n\" id=\"DejaVuSans-74\" transform=\"scale(0.015625)\"/>\r\n       <path d=\"M 544 1381 \r\nL 544 3500 \r\nL 1119 3500 \r\nL 1119 1403 \r\nQ 1119 906 1312 657 \r\nQ 1506 409 1894 409 \r\nQ 2359 409 2629 706 \r\nQ 2900 1003 2900 1516 \r\nL 2900 3500 \r\nL 3475 3500 \r\nL 3475 0 \r\nL 2900 0 \r\nL 2900 538 \r\nQ 2691 219 2414 64 \r\nQ 2138 -91 1772 -91 \r\nQ 1169 -91 856 284 \r\nQ 544 659 544 1381 \r\nz\r\nM 1991 3584 \r\nL 1991 3584 \r\nz\r\n\" id=\"DejaVuSans-75\" transform=\"scale(0.015625)\"/>\r\n       <path d=\"M 2906 2969 \r\nL 2906 4863 \r\nL 3481 4863 \r\nL 3481 0 \r\nL 2906 0 \r\nL 2906 525 \r\nQ 2725 213 2448 61 \r\nQ 2172 -91 1784 -91 \r\nQ 1150 -91 751 415 \r\nQ 353 922 353 1747 \r\nQ 353 2572 751 3078 \r\nQ 1150 3584 1784 3584 \r\nQ 2172 3584 2448 3432 \r\nQ 2725 3281 2906 2969 \r\nz\r\nM 947 1747 \r\nQ 947 1113 1208 752 \r\nQ 1469 391 1925 391 \r\nQ 2381 391 2643 752 \r\nQ 2906 1113 2906 1747 \r\nQ 2906 2381 2643 2742 \r\nQ 2381 3103 1925 3103 \r\nQ 1469 3103 1208 2742 \r\nQ 947 2381 947 1747 \r\nz\r\n\" id=\"DejaVuSans-64\" transform=\"scale(0.015625)\"/>\r\n       <path d=\"M 3597 1894 \r\nL 3597 1613 \r\nL 953 1613 \r\nQ 991 1019 1311 708 \r\nQ 1631 397 2203 397 \r\nQ 2534 397 2845 478 \r\nQ 3156 559 3463 722 \r\nL 3463 178 \r\nQ 3153 47 2828 -22 \r\nQ 2503 -91 2169 -91 \r\nQ 1331 -91 842 396 \r\nQ 353 884 353 1716 \r\nQ 353 2575 817 3079 \r\nQ 1281 3584 2069 3584 \r\nQ 2775 3584 3186 3129 \r\nQ 3597 2675 3597 1894 \r\nz\r\nM 3022 2063 \r\nQ 3016 2534 2758 2815 \r\nQ 2500 3097 2075 3097 \r\nQ 1594 3097 1305 2825 \r\nQ 1016 2553 972 2059 \r\nL 3022 2063 \r\nz\r\n\" id=\"DejaVuSans-65\" transform=\"scale(0.015625)\"/>\r\n       <path d=\"M 2631 2963 \r\nQ 2534 3019 2420 3045 \r\nQ 2306 3072 2169 3072 \r\nQ 1681 3072 1420 2755 \r\nQ 1159 2438 1159 1844 \r\nL 1159 0 \r\nL 581 0 \r\nL 581 3500 \r\nL 1159 3500 \r\nL 1159 2956 \r\nQ 1341 3275 1631 3429 \r\nQ 1922 3584 2338 3584 \r\nQ 2397 3584 2469 3576 \r\nQ 2541 3569 2628 3553 \r\nL 2631 2963 \r\nz\r\n\" id=\"DejaVuSans-72\" transform=\"scale(0.015625)\"/>\r\n      </defs>\r\n      <use xlink:href=\"#DejaVuSans-4d\"/>\r\n      <use x=\"86.279297\" xlink:href=\"#DejaVuSans-61\"/>\r\n      <use x=\"147.558594\" xlink:href=\"#DejaVuSans-67\"/>\r\n      <use x=\"211.035156\" xlink:href=\"#DejaVuSans-6e\"/>\r\n      <use x=\"274.414062\" xlink:href=\"#DejaVuSans-69\"/>\r\n      <use x=\"302.197266\" xlink:href=\"#DejaVuSans-74\"/>\r\n      <use x=\"341.40625\" xlink:href=\"#DejaVuSans-75\"/>\r\n      <use x=\"404.785156\" xlink:href=\"#DejaVuSans-64\"/>\r\n      <use x=\"468.261719\" xlink:href=\"#DejaVuSans-20\"/>\r\n      <use x=\"500.048828\" xlink:href=\"#DejaVuSans-64\"/>\r\n      <use x=\"563.525391\" xlink:href=\"#DejaVuSans-65\"/>\r\n      <use x=\"625.048828\" xlink:href=\"#DejaVuSans-20\"/>\r\n      <use x=\"656.835938\" xlink:href=\"#DejaVuSans-70\"/>\r\n      <use x=\"720.3125\" xlink:href=\"#DejaVuSans-65\"/>\r\n      <use x=\"781.835938\" xlink:href=\"#DejaVuSans-72\"/>\r\n      <use x=\"821.199219\" xlink:href=\"#DejaVuSans-64\"/>\r\n      <use x=\"884.675781\" xlink:href=\"#DejaVuSans-69\"/>\r\n      <use x=\"912.458984\" xlink:href=\"#DejaVuSans-64\"/>\r\n      <use x=\"975.935547\" xlink:href=\"#DejaVuSans-61\"/>\r\n     </g>\r\n    </g>\r\n    <g id=\"text_14\">\r\n     <!-- 1e9 -->\r\n     <g transform=\"translate(43.78125 14.798437)scale(0.1 -0.1)\">\r\n      <defs>\r\n       <path d=\"M 703 97 \r\nL 703 672 \r\nQ 941 559 1184 500 \r\nQ 1428 441 1663 441 \r\nQ 2288 441 2617 861 \r\nQ 2947 1281 2994 2138 \r\nQ 2813 1869 2534 1725 \r\nQ 2256 1581 1919 1581 \r\nQ 1219 1581 811 2004 \r\nQ 403 2428 403 3163 \r\nQ 403 3881 828 4315 \r\nQ 1253 4750 1959 4750 \r\nQ 2769 4750 3195 4129 \r\nQ 3622 3509 3622 2328 \r\nQ 3622 1225 3098 567 \r\nQ 2575 -91 1691 -91 \r\nQ 1453 -91 1209 -44 \r\nQ 966 3 703 97 \r\nz\r\nM 1959 2075 \r\nQ 2384 2075 2632 2365 \r\nQ 2881 2656 2881 3163 \r\nQ 2881 3666 2632 3958 \r\nQ 2384 4250 1959 4250 \r\nQ 1534 4250 1286 3958 \r\nQ 1038 3666 1038 3163 \r\nQ 1038 2656 1286 2365 \r\nQ 1534 2075 1959 2075 \r\nz\r\n\" id=\"DejaVuSans-39\" transform=\"scale(0.015625)\"/>\r\n      </defs>\r\n      <use xlink:href=\"#DejaVuSans-31\"/>\r\n      <use x=\"63.623047\" xlink:href=\"#DejaVuSans-65\"/>\r\n      <use x=\"125.146484\" xlink:href=\"#DejaVuSans-39\"/>\r\n     </g>\r\n    </g>\r\n   </g>\r\n   <g id=\"line2d_12\">\r\n    <path clip-path=\"url(#p73ccc81577)\" d=\"M 58.999432 168.270211 \r\nL 59.3041 215.2884 \r\nL 59.608768 225.131134 \r\nL 59.913437 225.144089 \r\nL 60.218105 224.668309 \r\nL 60.522773 224.552446 \r\nL 60.827442 221.302298 \r\nL 61.13211 223.403188 \r\nL 61.436778 224.016649 \r\nL 61.741447 203.550734 \r\nL 62.046115 223.084197 \r\nL 62.350783 223.801205 \r\nL 62.655451 223.768691 \r\nL 62.96012 225.139681 \r\nL 63.569456 224.071115 \r\nL 63.874125 225.137379 \r\nL 64.178793 224.506588 \r\nL 64.483461 203.677044 \r\nL 64.78813 100.954242 \r\nL 65.092798 213.908042 \r\nL 65.397466 225.03604 \r\nL 66.006803 224.810839 \r\nL 66.311471 225.27941 \r\nL 66.616139 225.247374 \r\nL 66.920808 225.028537 \r\nL 67.530144 224.925418 \r\nL 67.834813 225.185486 \r\nL 68.139481 225.230903 \r\nL 68.444149 224.452662 \r\nL 68.748818 224.950169 \r\nL 69.053486 220.143765 \r\nL 69.358154 223.238639 \r\nL 69.662822 225.031847 \r\nL 69.967491 216.594331 \r\nL 70.272159 224.109406 \r\nL 70.576827 225.089595 \r\nL 70.881496 223.585606 \r\nL 71.186164 203.609715 \r\nL 71.490832 219.852603 \r\nL 71.795501 225.156969 \r\nL 72.100169 225.102926 \r\nL 72.404837 222.345266 \r\nL 72.709506 209.220541 \r\nL 73.014174 225.131262 \r\nL 73.318842 223.49251 \r\nL 73.62351 224.996148 \r\nL 73.928179 225.098438 \r\nL 74.232847 224.792439 \r\nL 74.537515 223.831295 \r\nL 74.842184 225.06662 \r\nL 75.146852 225.179467 \r\nL 75.45152 225.05228 \r\nL 75.756189 225.104738 \r\nL 76.060857 222.183187 \r\nL 76.365525 225.197437 \r\nL 76.670193 224.251203 \r\nL 76.974862 196.704098 \r\nL 77.27953 225.163344 \r\nL 77.584198 217.769408 \r\nL 77.888867 222.578486 \r\nL 78.193535 224.571024 \r\nL 78.498203 170.557974 \r\nL 78.802872 187.380615 \r\nL 79.10754 223.171161 \r\nL 79.412208 225.162929 \r\nL 79.716877 225.270693 \r\nL 80.021545 225.244138 \r\nL 80.326213 224.353701 \r\nL 80.630881 224.71803 \r\nL 80.93555 224.125673 \r\nL 81.240218 224.320537 \r\nL 81.544886 221.009745 \r\nL 81.849555 178.343936 \r\nL 82.154223 220.691669 \r\nL 82.458891 225.145843 \r\nL 82.76356 223.188173 \r\nL 83.068228 224.834128 \r\nL 83.372896 225.258698 \r\nL 83.677564 224.883505 \r\nL 83.982233 222.1308 \r\nL 84.286901 225.230846 \r\nL 84.591569 225.206552 \r\nL 84.896238 224.766685 \r\nL 85.200906 224.936394 \r\nL 85.505574 225.281152 \r\nL 85.810243 224.355085 \r\nL 86.114911 225.214024 \r\nL 86.419579 225.236421 \r\nL 86.724248 224.680516 \r\nL 87.028916 165.966 \r\nL 87.333584 187.79608 \r\nL 87.638252 224.463868 \r\nL 87.942921 224.855033 \r\nL 88.247589 223.470334 \r\nL 88.552257 220.520517 \r\nL 88.856926 225.22153 \r\nL 89.466262 225.327207 \r\nL 89.770931 224.583221 \r\nL 90.075599 224.890489 \r\nL 90.380267 224.679515 \r\nL 90.684936 225.179602 \r\nL 90.989604 224.856214 \r\nL 91.294272 224.770602 \r\nL 91.59894 225.028881 \r\nL 91.903609 223.5091 \r\nL 92.208277 224.956837 \r\nL 92.512945 225.251424 \r\nL 92.817614 224.664119 \r\nL 93.122282 225.258587 \r\nL 93.731619 224.461706 \r\nL 94.036287 224.861269 \r\nL 94.340955 219.936379 \r\nL 94.645623 210.616119 \r\nL 94.950292 205.261642 \r\nL 95.25496 220.605706 \r\nL 95.559628 223.133644 \r\nL 96.168965 225.298239 \r\nL 96.473633 223.813629 \r\nL 96.778302 223.135563 \r\nL 97.08297 217.623147 \r\nL 97.387638 224.884059 \r\nL 97.692307 225.227918 \r\nL 97.996975 224.076966 \r\nL 98.301643 224.711439 \r\nL 98.606311 223.814216 \r\nL 98.91098 224.832349 \r\nL 99.215648 220.333162 \r\nL 99.520316 222.029071 \r\nL 99.824985 198.618072 \r\nL 100.129653 222.054989 \r\nL 100.434321 223.734578 \r\nL 100.73899 224.267467 \r\nL 101.043658 223.837923 \r\nL 101.348326 225.07601 \r\nL 101.652994 222.818207 \r\nL 101.957663 224.241509 \r\nL 102.262331 221.561754 \r\nL 102.566999 214.208957 \r\nL 102.871668 223.643639 \r\nL 103.176336 224.955251 \r\nL 103.785673 155.884006 \r\nL 104.090341 219.495255 \r\nL 104.395009 224.957503 \r\nL 104.699678 224.918249 \r\nL 105.004346 221.213487 \r\nL 105.309014 224.843901 \r\nL 105.613682 225.241938 \r\nL 105.918351 224.948116 \r\nL 106.223019 225.140924 \r\nL 106.527687 224.880412 \r\nL 107.137024 224.857166 \r\nL 108.051029 225.230027 \r\nL 108.355697 223.652028 \r\nL 108.660365 225.210687 \r\nL 108.965034 223.771406 \r\nL 109.269702 225.072891 \r\nL 109.57437 179.403088 \r\nL 109.879039 224.738895 \r\nL 110.183707 224.812988 \r\nL 110.488375 224.380789 \r\nL 110.793044 224.927721 \r\nL 111.097712 225.031624 \r\nL 111.40238 224.659529 \r\nL 111.707049 216.344137 \r\nL 112.011717 225.188883 \r\nL 112.316385 225.238069 \r\nL 112.621053 225.003806 \r\nL 112.925722 225.270107 \r\nL 113.23039 222.808645 \r\nL 113.535058 173.911993 \r\nL 113.839727 222.15437 \r\nL 114.144395 225.182206 \r\nL 114.449063 225.272866 \r\nL 114.753732 224.742601 \r\nL 115.0584 222.700753 \r\nL 115.363068 221.671773 \r\nL 115.667736 225.226856 \r\nL 115.972405 225.258224 \r\nL 116.277073 224.036197 \r\nL 116.581741 225.289252 \r\nL 117.191078 223.145965 \r\nL 117.495746 225.203097 \r\nL 117.800415 224.702271 \r\nL 118.105083 224.72095 \r\nL 118.409751 207.727039 \r\nL 118.71442 27.682074 \r\nL 119.019088 221.373013 \r\nL 119.323756 225.141669 \r\nL 119.628424 225.331525 \r\nL 121.151766 225.293968 \r\nL 121.761103 225.227604 \r\nL 122.065771 224.740617 \r\nL 122.370439 225.23091 \r\nL 122.979776 225.064221 \r\nL 123.284444 224.168353 \r\nL 123.589112 225.201416 \r\nL 123.893781 225.219663 \r\nL 124.807786 224.508493 \r\nL 125.112454 224.967962 \r\nL 125.417122 221.551565 \r\nL 125.721791 224.752262 \r\nL 126.026459 225.134164 \r\nL 126.331127 225.259149 \r\nL 126.635795 224.784393 \r\nL 126.940464 222.222843 \r\nL 127.245132 225.070047 \r\nL 127.5498 224.682335 \r\nL 127.854469 225.249449 \r\nL 128.768474 225.242664 \r\nL 129.073142 224.965983 \r\nL 129.37781 225.174475 \r\nL 129.682479 225.132938 \r\nL 130.291815 220.926875 \r\nL 130.596483 222.896873 \r\nL 130.901152 221.875974 \r\nL 131.20582 219.040947 \r\nL 131.510488 224.31057 \r\nL 131.815157 224.919444 \r\nL 132.424493 220.865236 \r\nL 132.729162 225.173488 \r\nL 133.03383 224.378426 \r\nL 133.338498 223.918911 \r\nL 133.643166 222.326494 \r\nL 133.947835 217.106041 \r\nL 134.252503 224.054736 \r\nL 134.557171 222.29568 \r\nL 134.86184 60.466122 \r\nL 135.166508 216.513295 \r\nL 135.471176 225.277851 \r\nL 136.68985 225.213828 \r\nL 136.994518 225.314393 \r\nL 137.299186 225.087346 \r\nL 137.603854 225.150359 \r\nL 137.908523 224.756607 \r\nL 138.213191 189.212161 \r\nL 138.517859 189.765864 \r\nL 138.822528 223.821972 \r\nL 139.127196 225.048902 \r\nL 139.431864 225.247653 \r\nL 139.736533 224.85251 \r\nL 140.345869 225.29242 \r\nL 140.650537 225.332131 \r\nL 140.955206 224.841233 \r\nL 141.259874 225.235462 \r\nL 141.564542 225.33854 \r\nL 141.869211 223.596878 \r\nL 142.173879 224.872002 \r\nL 142.478547 222.672564 \r\nL 142.783216 224.940673 \r\nL 143.087884 224.960826 \r\nL 143.392552 219.661837 \r\nL 143.697221 223.598401 \r\nL 144.001889 224.068782 \r\nL 144.306557 224.980052 \r\nL 144.611225 225.07369 \r\nL 144.915894 223.649832 \r\nL 145.220562 224.572277 \r\nL 145.52523 221.947314 \r\nL 145.829899 204.39073 \r\nL 146.134567 206.581721 \r\nL 146.439235 224.469496 \r\nL 146.743904 225.064086 \r\nL 147.048572 210.31045 \r\nL 147.657908 222.577839 \r\nL 148.267245 224.851673 \r\nL 148.571913 224.555061 \r\nL 148.876582 220.214823 \r\nL 149.18125 225.286631 \r\nL 149.485918 225.330305 \r\nL 149.790587 224.382295 \r\nL 150.095255 224.771096 \r\nL 150.399923 223.192794 \r\nL 150.704592 225.275966 \r\nL 151.00926 224.299589 \r\nL 151.313928 218.650328 \r\nL 151.618596 223.135116 \r\nL 151.923265 225.148041 \r\nL 152.227933 225.273514 \r\nL 152.532601 224.834217 \r\nL 152.83727 198.426503 \r\nL 153.141938 181.748988 \r\nL 153.446606 224.812519 \r\nL 153.751275 225.31967 \r\nL 154.055943 224.584603 \r\nL 154.360611 224.711888 \r\nL 154.665279 225.263403 \r\nL 154.969948 224.917106 \r\nL 155.274616 209.955024 \r\nL 155.579284 225.169173 \r\nL 155.883953 225.261322 \r\nL 156.493289 225.24317 \r\nL 156.797958 223.192784 \r\nL 157.102626 222.589823 \r\nL 157.407294 224.427866 \r\nL 157.711963 214.231947 \r\nL 158.016631 218.59771 \r\nL 158.321299 224.611704 \r\nL 158.625967 224.551078 \r\nL 159.235304 218.173153 \r\nL 159.539972 222.886434 \r\nL 159.844641 218.964185 \r\nL 160.149309 182.82665 \r\nL 160.453977 219.0638 \r\nL 160.758646 215.760982 \r\nL 161.063314 182.931149 \r\nL 161.367982 60.877419 \r\nL 161.67265 224.969012 \r\nL 162.281987 225.231874 \r\nL 162.891324 225.252864 \r\nL 163.50066 225.251797 \r\nL 163.805329 224.950464 \r\nL 164.109997 225.276019 \r\nL 164.414665 225.001032 \r\nL 164.719334 225.250557 \r\nL 165.024002 225.003541 \r\nL 165.32867 225.232934 \r\nL 165.633338 224.651453 \r\nL 165.938007 225.269886 \r\nL 166.547343 225.006812 \r\nL 167.15668 225.211945 \r\nL 167.766017 225.323378 \r\nL 168.375353 225.219478 \r\nL 168.680021 224.639918 \r\nL 168.98469 224.431892 \r\nL 169.289358 225.062953 \r\nL 169.594026 223.601224 \r\nL 169.898695 219.032505 \r\nL 170.203363 223.817211 \r\nL 170.508031 225.206702 \r\nL 171.117368 223.144238 \r\nL 171.422036 220.410669 \r\nL 171.726705 225.256472 \r\nL 172.031373 225.084579 \r\nL 172.336041 211.651927 \r\nL 172.640709 209.474362 \r\nL 172.945378 222.761606 \r\nL 173.250046 225.033263 \r\nL 173.554714 224.968713 \r\nL 173.859383 225.223037 \r\nL 174.164051 183.98593 \r\nL 174.468719 124.502004 \r\nL 174.773388 224.068236 \r\nL 175.078056 224.742753 \r\nL 175.382724 224.876092 \r\nL 175.687393 224.773955 \r\nL 175.992061 225.173493 \r\nL 176.296729 225.276308 \r\nL 176.601397 224.568734 \r\nL 176.906066 224.743466 \r\nL 177.210734 224.548898 \r\nL 177.515402 225.313715 \r\nL 177.820071 225.034151 \r\nL 178.429407 225.119148 \r\nL 178.734076 223.491107 \r\nL 179.038744 214.439657 \r\nL 179.343412 223.916536 \r\nL 179.64808 223.298443 \r\nL 180.257417 225.129177 \r\nL 180.562085 224.845428 \r\nL 180.866754 225.305476 \r\nL 181.171422 224.729616 \r\nL 181.47609 225.117557 \r\nL 181.780759 225.323929 \r\nL 182.085427 223.872398 \r\nL 182.390095 197.279468 \r\nL 182.694764 185.956008 \r\nL 183.3041 224.814936 \r\nL 183.608768 225.268361 \r\nL 183.913437 223.831113 \r\nL 184.218105 223.195571 \r\nL 184.522773 221.713542 \r\nL 184.827442 223.044716 \r\nL 185.13211 225.329807 \r\nL 185.436778 225.149712 \r\nL 186.046115 225.168478 \r\nL 186.350783 224.497527 \r\nL 186.655451 222.980282 \r\nL 186.96012 222.579924 \r\nL 187.264788 221.562751 \r\nL 187.569456 214.532839 \r\nL 187.874125 224.601784 \r\nL 188.178793 225.172895 \r\nL 188.483461 224.965435 \r\nL 188.78813 225.28439 \r\nL 189.397466 225.125139 \r\nL 189.702135 223.888802 \r\nL 190.006803 218.143964 \r\nL 190.311471 223.148604 \r\nL 190.616139 224.502747 \r\nL 190.920808 223.923371 \r\nL 191.225476 223.777952 \r\nL 191.530144 219.161466 \r\nL 191.834813 155.869956 \r\nL 192.139481 183.579691 \r\nL 192.444149 147.260629 \r\nL 192.748818 215.307265 \r\nL 193.053486 225.262419 \r\nL 193.662822 224.974023 \r\nL 194.272159 225.201744 \r\nL 194.576827 223.968708 \r\nL 194.881496 224.8149 \r\nL 195.186164 225.207576 \r\nL 195.490832 224.901499 \r\nL 195.795501 216.693538 \r\nL 196.100169 224.976119 \r\nL 196.404837 225.300865 \r\nL 197.014174 225.212422 \r\nL 197.62351 221.870411 \r\nL 197.928179 223.75344 \r\nL 198.232847 221.77291 \r\nL 198.537515 196.472846 \r\nL 198.842184 225.236989 \r\nL 199.146852 224.784464 \r\nL 199.45152 225.264122 \r\nL 199.756189 223.692903 \r\nL 200.060857 224.912387 \r\nL 200.365525 224.990797 \r\nL 200.670193 223.811405 \r\nL 200.974862 224.30652 \r\nL 201.27953 225.322251 \r\nL 201.584198 224.707635 \r\nL 201.888867 224.820083 \r\nL 202.193535 225.27394 \r\nL 202.802872 225.242496 \r\nL 203.10754 224.891713 \r\nL 203.412208 225.216988 \r\nL 203.716877 224.86469 \r\nL 204.021545 225.159473 \r\nL 204.326213 222.289686 \r\nL 204.630881 220.703314 \r\nL 204.93555 217.884637 \r\nL 205.240218 225.126687 \r\nL 205.544886 224.733478 \r\nL 205.849555 221.149509 \r\nL 206.154223 221.325636 \r\nL 206.458891 194.151333 \r\nL 206.76356 221.90231 \r\nL 207.068228 223.317638 \r\nL 207.372896 206.974163 \r\nL 207.677564 224.090955 \r\nL 207.982233 225.114682 \r\nL 208.286901 224.749768 \r\nL 208.591569 224.733279 \r\nL 208.896238 225.268461 \r\nL 209.200906 225.093708 \r\nL 209.505574 224.76093 \r\nL 209.810243 225.158416 \r\nL 210.114911 222.341289 \r\nL 210.419579 221.099282 \r\nL 211.028916 225.162293 \r\nL 211.333584 224.903143 \r\nL 211.638252 206.201144 \r\nL 211.942921 224.863151 \r\nL 212.247589 225.055432 \r\nL 212.552257 223.740771 \r\nL 212.856926 222.986795 \r\nL 213.161594 123.313013 \r\nL 213.466262 216.611945 \r\nL 213.770931 224.597018 \r\nL 214.380267 225.333972 \r\nL 214.684936 225.29973 \r\nL 214.989604 224.577578 \r\nL 215.294272 221.411634 \r\nL 215.59894 224.938682 \r\nL 215.903609 224.583251 \r\nL 216.208277 224.511958 \r\nL 216.512945 221.241829 \r\nL 216.817614 52.656359 \r\nL 217.122282 217.947137 \r\nL 217.42695 225.29579 \r\nL 217.731619 224.709565 \r\nL 218.036287 224.621417 \r\nL 218.340955 224.751356 \r\nL 218.645623 225.175936 \r\nL 219.25496 225.214422 \r\nL 220.168965 224.986154 \r\nL 220.473633 224.534712 \r\nL 220.778302 222.494747 \r\nL 221.08297 221.849463 \r\nL 221.387638 224.988684 \r\nL 221.692307 225.235267 \r\nL 222.301643 225.02865 \r\nL 222.606311 225.187687 \r\nL 222.91098 224.564449 \r\nL 223.215648 225.334807 \r\nL 223.520316 225.219335 \r\nL 223.824985 224.814678 \r\nL 224.129653 225.343074 \r\nL 224.434321 223.142152 \r\nL 224.73899 224.862708 \r\nL 225.043658 223.843153 \r\nL 225.348326 225.029642 \r\nL 225.652994 225.168136 \r\nL 225.957663 225.132469 \r\nL 226.262331 223.34299 \r\nL 226.566999 222.674943 \r\nL 226.871668 225.220647 \r\nL 227.176336 225.155918 \r\nL 227.481004 224.879287 \r\nL 227.785673 224.055874 \r\nL 228.090341 223.803512 \r\nL 228.395009 194.242995 \r\nL 228.699678 191.385756 \r\nL 229.004346 211.851805 \r\nL 229.309014 224.78482 \r\nL 229.918351 224.854051 \r\nL 230.832356 225.165671 \r\nL 231.137024 225.142233 \r\nL 231.441692 225.277409 \r\nL 232.051029 224.444546 \r\nL 232.355697 224.38244 \r\nL 232.660365 223.27227 \r\nL 232.965034 128.51495 \r\nL 233.269702 224.104704 \r\nL 233.57437 224.301165 \r\nL 233.879039 225.125456 \r\nL 234.183707 225.064081 \r\nL 234.488375 224.153081 \r\nL 234.793044 222.381288 \r\nL 235.097712 222.947378 \r\nL 235.40238 216.811466 \r\nL 235.707049 224.781846 \r\nL 236.011717 225.189964 \r\nL 236.316385 225.152312 \r\nL 236.621053 221.407326 \r\nL 236.925722 224.361381 \r\nL 237.839727 225.283484 \r\nL 238.144395 225.117495 \r\nL 238.449063 225.301375 \r\nL 238.753732 224.006458 \r\nL 239.0584 219.909757 \r\nL 239.363068 224.867942 \r\nL 239.667736 221.680084 \r\nL 239.972405 225.057046 \r\nL 240.277073 225.301698 \r\nL 240.581741 224.165406 \r\nL 240.88641 197.313947 \r\nL 241.191078 152.167584 \r\nL 241.800415 222.464616 \r\nL 242.105083 225.290401 \r\nL 242.409751 224.980078 \r\nL 242.71442 201.627756 \r\nL 243.019088 225.280581 \r\nL 243.323756 225.140475 \r\nL 243.628424 225.282783 \r\nL 243.933093 224.196646 \r\nL 244.237761 225.155671 \r\nL 244.542429 225.235273 \r\nL 245.151766 225.026559 \r\nL 245.456434 225.263428 \r\nL 245.761103 223.323817 \r\nL 246.065771 224.644442 \r\nL 246.675107 224.774284 \r\nL 246.979776 212.034815 \r\nL 247.284444 223.900996 \r\nL 247.589112 225.249507 \r\nL 247.893781 223.675241 \r\nL 248.198449 225.090462 \r\nL 248.503117 225.089208 \r\nL 248.807786 225.235072 \r\nL 249.112454 225.213763 \r\nL 249.417122 224.821285 \r\nL 249.721791 225.099209 \r\nL 250.026459 224.228434 \r\nL 250.331127 224.458467 \r\nL 250.635795 225.131766 \r\nL 250.940464 223.763617 \r\nL 251.245132 224.91841 \r\nL 251.5498 225.142706 \r\nL 251.854469 224.682572 \r\nL 252.159137 225.319692 \r\nL 252.463805 188.000177 \r\nL 252.768474 166.739431 \r\nL 253.073142 225.267239 \r\nL 253.37781 225.336509 \r\nL 253.682479 224.753876 \r\nL 253.987147 225.035772 \r\nL 254.291815 225.079335 \r\nL 254.596483 223.778567 \r\nL 254.901152 224.925289 \r\nL 255.20582 222.166299 \r\nL 255.510488 225.201164 \r\nL 255.815157 224.890873 \r\nL 256.119825 223.315759 \r\nL 256.424493 223.242753 \r\nL 256.729162 133.248918 \r\nL 257.03383 196.66819 \r\nL 257.338498 225.308338 \r\nL 257.643166 225.225215 \r\nL 258.252503 218.165196 \r\nL 258.557171 200.008185 \r\nL 258.86184 225.036519 \r\nL 259.166508 224.245986 \r\nL 259.471176 224.925598 \r\nL 259.775845 224.427541 \r\nL 260.080513 225.121535 \r\nL 260.385181 224.383986 \r\nL 260.68985 225.315367 \r\nL 260.994518 225.333853 \r\nL 261.299186 225.002257 \r\nL 261.603854 224.258251 \r\nL 261.908523 188.335449 \r\nL 262.213191 225.013315 \r\nL 262.517859 225.041521 \r\nL 262.822528 225.230585 \r\nL 263.127196 224.78985 \r\nL 263.431864 225.231772 \r\nL 263.736533 225.10169 \r\nL 264.041201 225.108279 \r\nL 264.345869 224.73255 \r\nL 264.650537 223.436722 \r\nL 264.955206 225.277591 \r\nL 265.259874 225.302981 \r\nL 265.564542 225.097651 \r\nL 265.869211 211.076173 \r\nL 266.173879 136.339427 \r\nL 266.478547 94.843619 \r\nL 266.783216 223.520661 \r\nL 267.087884 225.100528 \r\nL 267.392552 225.198991 \r\nL 267.697221 224.259929 \r\nL 268.001889 225.144627 \r\nL 268.611225 224.931307 \r\nL 268.915894 225.22225 \r\nL 269.52523 225.102028 \r\nL 269.829899 225.287527 \r\nL 270.134567 225.103704 \r\nL 270.439235 225.144572 \r\nL 270.743904 225.354801 \r\nL 271.048572 224.025537 \r\nL 271.35324 224.955949 \r\nL 271.657908 225.275548 \r\nL 271.962577 224.034235 \r\nL 272.267245 224.973797 \r\nL 272.571913 225.191732 \r\nL 272.876582 224.723109 \r\nL 273.18125 224.893616 \r\nL 273.485918 224.933384 \r\nL 273.790587 222.721827 \r\nL 274.095255 224.348093 \r\nL 274.399923 211.414025 \r\nL 274.704592 209.090617 \r\nL 275.00926 225.258692 \r\nL 275.313928 225.306977 \r\nL 275.618596 224.837327 \r\nL 275.923265 211.662947 \r\nL 276.227933 223.796665 \r\nL 276.532601 225.197876 \r\nL 276.83727 223.869444 \r\nL 277.446606 225.23562 \r\nL 277.751275 225.267551 \r\nL 278.055943 224.957431 \r\nL 278.360611 225.065881 \r\nL 278.665279 224.721866 \r\nL 278.969948 222.583829 \r\nL 279.274616 213.915708 \r\nL 279.579284 60.5071 \r\nL 280.188621 224.877666 \r\nL 280.797958 225.242362 \r\nL 281.102626 225.069055 \r\nL 281.711963 225.341118 \r\nL 282.016631 225.252196 \r\nL 282.321299 224.816785 \r\nL 282.625967 225.26547 \r\nL 282.930636 225.072069 \r\nL 283.235304 225.048796 \r\nL 283.844641 225.286406 \r\nL 284.149309 224.363129 \r\nL 284.453977 224.478215 \r\nL 284.758646 225.295922 \r\nL 285.063314 224.37984 \r\nL 285.367982 225.3371 \r\nL 285.67265 225.277984 \r\nL 285.977319 225.051268 \r\nL 286.281987 225.274782 \r\nL 286.891324 223.914464 \r\nL 287.195992 224.314641 \r\nL 287.50066 214.30359 \r\nL 287.805329 224.800971 \r\nL 288.109997 225.210049 \r\nL 288.719334 224.6212 \r\nL 289.024002 211.634069 \r\nL 289.32867 223.374153 \r\nL 289.633338 223.585217 \r\nL 289.938007 224.944132 \r\nL 290.242675 220.226896 \r\nL 290.547343 213.417199 \r\nL 290.852012 213.965044 \r\nL 291.15668 223.919262 \r\nL 291.461348 223.279685 \r\nL 291.766017 180.953741 \r\nL 292.070685 212.804747 \r\nL 292.375353 212.197454 \r\nL 292.680021 224.561108 \r\nL 292.98469 224.464886 \r\nL 293.289358 225.061659 \r\nL 293.594026 225.271252 \r\nL 293.898695 224.63178 \r\nL 294.203363 223.694128 \r\nL 294.508031 224.814279 \r\nL 294.8127 225.137601 \r\nL 295.117368 224.800408 \r\nL 295.422036 225.114169 \r\nL 295.726705 224.558642 \r\nL 296.031373 216.805901 \r\nL 296.336041 224.904667 \r\nL 296.640709 224.623603 \r\nL 296.945378 207.896931 \r\nL 297.250046 223.299156 \r\nL 297.554714 218.956276 \r\nL 297.859383 218.353234 \r\nL 298.164051 184.663667 \r\nL 298.468719 219.05892 \r\nL 298.773388 224.633571 \r\nL 299.078056 225.109147 \r\nL 299.687393 225.259235 \r\nL 299.992061 224.845076 \r\nL 300.296729 225.172603 \r\nL 300.601397 225.247111 \r\nL 300.906066 223.003458 \r\nL 301.210734 224.871385 \r\nL 301.515402 118.740691 \r\nL 301.820071 188.594047 \r\nL 302.124739 217.618926 \r\nL 302.429407 225.26842 \r\nL 302.734076 225.006 \r\nL 303.952749 225.053479 \r\nL 304.257417 225.212271 \r\nL 304.562085 225.235193 \r\nL 304.866754 224.880022 \r\nL 305.171422 224.790652 \r\nL 305.47609 225.207229 \r\nL 305.780759 225.327305 \r\nL 306.085427 225.10749 \r\nL 306.390095 225.035722 \r\nL 306.694764 224.471326 \r\nL 306.999432 225.21142 \r\nL 307.3041 224.469772 \r\nL 307.608768 224.894093 \r\nL 307.913437 225.050349 \r\nL 308.218105 214.741146 \r\nL 308.522773 224.866112 \r\nL 308.827442 220.181229 \r\nL 309.13211 225.310539 \r\nL 309.741447 225.334 \r\nL 310.046115 224.66424 \r\nL 310.350783 225.051745 \r\nL 310.655451 224.875406 \r\nL 310.96012 224.48012 \r\nL 311.264788 225.337407 \r\nL 311.569456 225.141461 \r\nL 311.874125 211.524916 \r\nL 312.178793 214.741839 \r\nL 312.483461 223.70132 \r\nL 312.78813 223.974105 \r\nL 313.092798 224.560694 \r\nL 313.397466 224.218304 \r\nL 313.702135 157.832031 \r\nL 314.006803 224.55948 \r\nL 314.311471 225.324719 \r\nL 314.616139 224.466444 \r\nL 314.920808 224.639499 \r\nL 315.225476 224.588803 \r\nL 315.530144 224.141492 \r\nL 315.834813 224.810987 \r\nL 316.139481 223.235583 \r\nL 316.444149 225.179067 \r\nL 317.358154 225.247812 \r\nL 317.662822 224.891549 \r\nL 317.967491 225.323273 \r\nL 318.272159 225.163777 \r\nL 318.576827 224.337139 \r\nL 318.881496 225.042435 \r\nL 319.186164 224.180298 \r\nL 319.490832 224.272076 \r\nL 319.795501 225.270601 \r\nL 320.100169 225.112824 \r\nL 320.404837 223.184145 \r\nL 320.709506 220.12717 \r\nL 321.014174 220.598904 \r\nL 321.318842 217.440731 \r\nL 321.62351 210.921445 \r\nL 321.928179 225.08558 \r\nL 322.537515 225.120434 \r\nL 322.842184 223.970468 \r\nL 323.146852 225.234166 \r\nL 323.45152 224.207618 \r\nL 324.060857 224.854114 \r\nL 324.365525 223.15553 \r\nL 324.974862 66.141989 \r\nL 325.27953 219.01432 \r\nL 325.584198 225.042645 \r\nL 325.888867 225.177105 \r\nL 326.193535 224.768968 \r\nL 326.802872 225.302577 \r\nL 327.10754 225.218274 \r\nL 327.716877 224.421773 \r\nL 328.021545 225.321381 \r\nL 328.326213 224.881013 \r\nL 329.240218 225.261496 \r\nL 329.544886 223.433104 \r\nL 329.849555 225.302795 \r\nL 330.154223 225.16657 \r\nL 330.76356 225.314803 \r\nL 331.068228 224.106027 \r\nL 331.372896 224.792341 \r\nL 331.677564 224.634564 \r\nL 331.982233 224.874717 \r\nL 332.286901 217.784757 \r\nL 332.591569 223.545575 \r\nL 333.200906 225.272999 \r\nL 333.505574 225.061093 \r\nL 334.114911 225.341387 \r\nL 334.724248 225.101746 \r\nL 335.333584 225.19709 \r\nL 335.638252 224.824708 \r\nL 335.942921 224.061359 \r\nL 336.552257 225.045353 \r\nL 336.856926 223.200261 \r\nL 337.161594 218.343188 \r\nL 337.466262 208.907858 \r\nL 337.770931 69.853203 \r\nL 338.075599 222.511011 \r\nL 338.380267 224.719939 \r\nL 338.684936 225.290729 \r\nL 338.989604 225.059268 \r\nL 339.294272 225.237619 \r\nL 339.59894 224.40114 \r\nL 339.903609 225.101204 \r\nL 340.512945 224.881134 \r\nL 340.817614 224.666212 \r\nL 341.42695 225.035642 \r\nL 342.036287 224.864457 \r\nL 342.340955 225.137363 \r\nL 342.645623 219.294422 \r\nL 342.950292 225.084703 \r\nL 343.25496 224.925637 \r\nL 343.559628 225.152522 \r\nL 343.864297 225.164376 \r\nL 344.168965 224.870062 \r\nL 344.473633 225.186701 \r\nL 344.778302 224.91185 \r\nL 345.08297 225.144007 \r\nL 345.692307 224.676146 \r\nL 345.996975 223.756831 \r\nL 346.301643 224.084341 \r\nL 346.606311 209.501199 \r\nL 346.91098 204.586041 \r\nL 347.215648 208.321447 \r\nL 347.520316 225.120725 \r\nL 347.824985 225.327121 \r\nL 348.129653 225.201034 \r\nL 348.434321 225.305479 \r\nL 348.73899 225.275041 \r\nL 349.348326 224.108905 \r\nL 349.652994 220.84124 \r\nL 349.957663 222.75519 \r\nL 350.262331 220.210266 \r\nL 350.566999 223.738774 \r\nL 350.871668 224.867226 \r\nL 351.176336 223.924485 \r\nL 351.481004 225.123096 \r\nL 352.090341 224.733507 \r\nL 352.395009 222.923502 \r\nL 352.699678 216.759587 \r\nL 353.004346 222.440251 \r\nL 353.309014 224.558325 \r\nL 353.613682 222.324762 \r\nL 353.918351 224.892887 \r\nL 354.223019 225.24049 \r\nL 354.527687 224.086514 \r\nL 354.832356 225.193548 \r\nL 355.137024 222.769352 \r\nL 355.441692 225.286202 \r\nL 355.746361 222.110317 \r\nL 356.051029 224.922965 \r\nL 356.355697 223.583173 \r\nL 356.660365 223.710621 \r\nL 356.965034 137.657521 \r\nL 357.269702 217.662359 \r\nL 357.57437 224.422619 \r\nL 357.879039 225.15764 \r\nL 358.183707 225.272402 \r\nL 358.488375 223.850846 \r\nL 358.793044 212.574239 \r\nL 359.097712 215.208229 \r\nL 359.40238 224.917443 \r\nL 359.707049 225.051454 \r\nL 360.011717 223.711621 \r\nL 360.316385 225.192768 \r\nL 360.621053 225.262802 \r\nL 360.925722 224.893065 \r\nL 361.23039 225.324329 \r\nL 361.535058 225.009703 \r\nL 361.839727 225.11518 \r\nL 362.144395 224.712894 \r\nL 362.449063 224.897494 \r\nL 362.753732 225.321651 \r\nL 363.0584 221.671003 \r\nL 363.363068 205.922563 \r\nL 363.363068 205.922563 \r\n\" style=\"fill:none;stroke:#1f77b4;stroke-linecap:square;stroke-width:1.5;\"/>\r\n   </g>\r\n   <g id=\"patch_3\">\r\n    <path d=\"M 43.78125 235.238438 \r\nL 43.78125 17.798438 \r\n\" style=\"fill:none;stroke:#000000;stroke-linecap:square;stroke-linejoin:miter;stroke-width:0.8;\"/>\r\n   </g>\r\n   <g id=\"patch_4\">\r\n    <path d=\"M 378.58125 235.238438 \r\nL 378.58125 17.798438 \r\n\" style=\"fill:none;stroke:#000000;stroke-linecap:square;stroke-linejoin:miter;stroke-width:0.8;\"/>\r\n   </g>\r\n   <g id=\"patch_5\">\r\n    <path d=\"M 43.78125 235.238438 \r\nL 378.58125 235.238438 \r\n\" style=\"fill:none;stroke:#000000;stroke-linecap:square;stroke-linejoin:miter;stroke-width:0.8;\"/>\r\n   </g>\r\n   <g id=\"patch_6\">\r\n    <path d=\"M 43.78125 17.798438 \r\nL 378.58125 17.798438 \r\n\" style=\"fill:none;stroke:#000000;stroke-linecap:square;stroke-linejoin:miter;stroke-width:0.8;\"/>\r\n   </g>\r\n  </g>\r\n </g>\r\n <defs>\r\n  <clipPath id=\"p73ccc81577\">\r\n   <rect height=\"217.44\" width=\"334.8\" x=\"43.78125\" y=\"17.798438\"/>\r\n  </clipPath>\r\n </defs>\r\n</svg>\r\n",
      "image/png": "[encoded data removed]"
     },
     "metadata": {
      "needs_background": "light"
     }
    }
   ],
   "metadata": {}
  },
  {
   "cell_type": "code",
   "execution_count": 13,
   "source": [
    "#ML\r\n",
    "print(\"Variables internas del modelo:\")\r\n",
    "print(capa.get_weights())"
   ],
   "outputs": [
    {
     "output_type": "stream",
     "name": "stdout",
     "text": [
      "Variables internas del modelo:\n",
      "[array([[-0.11943328]], dtype=float32), array([591.7447], dtype=float32)]\n"
     ]
    }
   ],
   "metadata": {}
  },
  {
   "cell_type": "code",
   "execution_count": 14,
   "source": [
    "#ML\r\n",
    "print(\"Hagamos la prediccion:\")\r\n",
    "resultado = modelo.predict([])\r\n",
    "print(\"El resultado es \" + str(resultado))"
   ],
   "outputs": [
    {
     "output_type": "stream",
     "name": "stdout",
     "text": [
      "Hagamos la prediccion:\n"
     ]
    },
    {
     "output_type": "error",
     "ename": "KeyError",
     "evalue": "'pop from an empty set'",
     "traceback": [
      "\u001b[1;31m---------------------------------------------------------------------------\u001b[0m",
      "\u001b[1;31mKeyError\u001b[0m                                  Traceback (most recent call last)",
      "\u001b[1;32m<ipython-input-14-fcf5b466ce3c>\u001b[0m in \u001b[0;36m<module>\u001b[1;34m\u001b[0m\n\u001b[0;32m      1\u001b[0m \u001b[1;31m#ML\u001b[0m\u001b[1;33m\u001b[0m\u001b[1;33m\u001b[0m\u001b[1;33m\u001b[0m\u001b[0m\n\u001b[0;32m      2\u001b[0m \u001b[0mprint\u001b[0m\u001b[1;33m(\u001b[0m\u001b[1;34m\"Hagamos la prediccion:\"\u001b[0m\u001b[1;33m)\u001b[0m\u001b[1;33m\u001b[0m\u001b[1;33m\u001b[0m\u001b[0m\n\u001b[1;32m----> 3\u001b[1;33m \u001b[0mresultado\u001b[0m \u001b[1;33m=\u001b[0m \u001b[0mmodelo\u001b[0m\u001b[1;33m.\u001b[0m\u001b[0mpredict\u001b[0m\u001b[1;33m(\u001b[0m\u001b[1;33m[\u001b[0m\u001b[1;33m]\u001b[0m\u001b[1;33m)\u001b[0m\u001b[1;33m\u001b[0m\u001b[1;33m\u001b[0m\u001b[0m\n\u001b[0m\u001b[0;32m      4\u001b[0m \u001b[0mprint\u001b[0m\u001b[1;33m(\u001b[0m\u001b[1;34m\"El resultado es \"\u001b[0m \u001b[1;33m+\u001b[0m \u001b[0mstr\u001b[0m\u001b[1;33m(\u001b[0m\u001b[0mresultado\u001b[0m\u001b[1;33m)\u001b[0m\u001b[1;33m)\u001b[0m\u001b[1;33m\u001b[0m\u001b[1;33m\u001b[0m\u001b[0m\n",
      "\u001b[1;32m~\\AppData\\Local\\Programs\\Python\\Python39\\lib\\site-packages\\tensorflow\\python\\keras\\engine\\training.py\u001b[0m in \u001b[0;36mpredict\u001b[1;34m(self, x, batch_size, verbose, steps, callbacks, max_queue_size, workers, use_multiprocessing)\u001b[0m\n\u001b[0;32m   1694\u001b[0m                         '. Consider setting it to AutoShardPolicy.DATA.')\n\u001b[0;32m   1695\u001b[0m \u001b[1;33m\u001b[0m\u001b[0m\n\u001b[1;32m-> 1696\u001b[1;33m       data_handler = data_adapter.get_data_handler(\n\u001b[0m\u001b[0;32m   1697\u001b[0m           \u001b[0mx\u001b[0m\u001b[1;33m=\u001b[0m\u001b[0mx\u001b[0m\u001b[1;33m,\u001b[0m\u001b[1;33m\u001b[0m\u001b[1;33m\u001b[0m\u001b[0m\n\u001b[0;32m   1698\u001b[0m           \u001b[0mbatch_size\u001b[0m\u001b[1;33m=\u001b[0m\u001b[0mbatch_size\u001b[0m\u001b[1;33m,\u001b[0m\u001b[1;33m\u001b[0m\u001b[1;33m\u001b[0m\u001b[0m\n",
      "\u001b[1;32m~\\AppData\\Local\\Programs\\Python\\Python39\\lib\\site-packages\\tensorflow\\python\\keras\\engine\\data_adapter.py\u001b[0m in \u001b[0;36mget_data_handler\u001b[1;34m(*args, **kwargs)\u001b[0m\n\u001b[0;32m   1362\u001b[0m   \u001b[1;32mif\u001b[0m \u001b[0mgetattr\u001b[0m\u001b[1;33m(\u001b[0m\u001b[0mkwargs\u001b[0m\u001b[1;33m[\u001b[0m\u001b[1;34m\"model\"\u001b[0m\u001b[1;33m]\u001b[0m\u001b[1;33m,\u001b[0m \u001b[1;34m\"_cluster_coordinator\"\u001b[0m\u001b[1;33m,\u001b[0m \u001b[1;32mNone\u001b[0m\u001b[1;33m)\u001b[0m\u001b[1;33m:\u001b[0m\u001b[1;33m\u001b[0m\u001b[1;33m\u001b[0m\u001b[0m\n\u001b[0;32m   1363\u001b[0m     \u001b[1;32mreturn\u001b[0m \u001b[0m_ClusterCoordinatorDataHandler\u001b[0m\u001b[1;33m(\u001b[0m\u001b[1;33m*\u001b[0m\u001b[0margs\u001b[0m\u001b[1;33m,\u001b[0m \u001b[1;33m**\u001b[0m\u001b[0mkwargs\u001b[0m\u001b[1;33m)\u001b[0m\u001b[1;33m\u001b[0m\u001b[1;33m\u001b[0m\u001b[0m\n\u001b[1;32m-> 1364\u001b[1;33m   \u001b[1;32mreturn\u001b[0m \u001b[0mDataHandler\u001b[0m\u001b[1;33m(\u001b[0m\u001b[1;33m*\u001b[0m\u001b[0margs\u001b[0m\u001b[1;33m,\u001b[0m \u001b[1;33m**\u001b[0m\u001b[0mkwargs\u001b[0m\u001b[1;33m)\u001b[0m\u001b[1;33m\u001b[0m\u001b[1;33m\u001b[0m\u001b[0m\n\u001b[0m\u001b[0;32m   1365\u001b[0m \u001b[1;33m\u001b[0m\u001b[0m\n\u001b[0;32m   1366\u001b[0m \u001b[1;33m\u001b[0m\u001b[0m\n",
      "\u001b[1;32m~\\AppData\\Local\\Programs\\Python\\Python39\\lib\\site-packages\\tensorflow\\python\\keras\\engine\\data_adapter.py\u001b[0m in \u001b[0;36m__init__\u001b[1;34m(self, x, y, sample_weight, batch_size, steps_per_epoch, initial_epoch, epochs, shuffle, class_weight, max_queue_size, workers, use_multiprocessing, model, steps_per_execution, distribute)\u001b[0m\n\u001b[0;32m   1152\u001b[0m     \u001b[0madapter_cls\u001b[0m \u001b[1;33m=\u001b[0m \u001b[0mselect_data_adapter\u001b[0m\u001b[1;33m(\u001b[0m\u001b[0mx\u001b[0m\u001b[1;33m,\u001b[0m \u001b[0my\u001b[0m\u001b[1;33m)\u001b[0m\u001b[1;33m\u001b[0m\u001b[1;33m\u001b[0m\u001b[0m\n\u001b[0;32m   1153\u001b[0m     \u001b[0mself\u001b[0m\u001b[1;33m.\u001b[0m\u001b[0m_verify_data_adapter_compatibility\u001b[0m\u001b[1;33m(\u001b[0m\u001b[0madapter_cls\u001b[0m\u001b[1;33m)\u001b[0m\u001b[1;33m\u001b[0m\u001b[1;33m\u001b[0m\u001b[0m\n\u001b[1;32m-> 1154\u001b[1;33m     self._adapter = adapter_cls(\n\u001b[0m\u001b[0;32m   1155\u001b[0m         \u001b[0mx\u001b[0m\u001b[1;33m,\u001b[0m\u001b[1;33m\u001b[0m\u001b[1;33m\u001b[0m\u001b[0m\n\u001b[0;32m   1156\u001b[0m         \u001b[0my\u001b[0m\u001b[1;33m,\u001b[0m\u001b[1;33m\u001b[0m\u001b[1;33m\u001b[0m\u001b[0m\n",
      "\u001b[1;32m~\\AppData\\Local\\Programs\\Python\\Python39\\lib\\site-packages\\tensorflow\\python\\keras\\engine\\data_adapter.py\u001b[0m in \u001b[0;36m__init__\u001b[1;34m(self, x, y, sample_weights, sample_weight_modes, batch_size, epochs, steps, shuffle, **kwargs)\u001b[0m\n\u001b[0;32m    255\u001b[0m     \u001b[0minputs\u001b[0m \u001b[1;33m=\u001b[0m \u001b[0mpack_x_y_sample_weight\u001b[0m\u001b[1;33m(\u001b[0m\u001b[0mx\u001b[0m\u001b[1;33m,\u001b[0m \u001b[0my\u001b[0m\u001b[1;33m,\u001b[0m \u001b[0msample_weights\u001b[0m\u001b[1;33m)\u001b[0m\u001b[1;33m\u001b[0m\u001b[1;33m\u001b[0m\u001b[0m\n\u001b[0;32m    256\u001b[0m \u001b[1;33m\u001b[0m\u001b[0m\n\u001b[1;32m--> 257\u001b[1;33m     \u001b[0mnum_samples\u001b[0m \u001b[1;33m=\u001b[0m \u001b[0mset\u001b[0m\u001b[1;33m(\u001b[0m\u001b[0mint\u001b[0m\u001b[1;33m(\u001b[0m\u001b[0mi\u001b[0m\u001b[1;33m.\u001b[0m\u001b[0mshape\u001b[0m\u001b[1;33m[\u001b[0m\u001b[1;36m0\u001b[0m\u001b[1;33m]\u001b[0m\u001b[1;33m)\u001b[0m \u001b[1;32mfor\u001b[0m \u001b[0mi\u001b[0m \u001b[1;32min\u001b[0m \u001b[0mnest\u001b[0m\u001b[1;33m.\u001b[0m\u001b[0mflatten\u001b[0m\u001b[1;33m(\u001b[0m\u001b[0minputs\u001b[0m\u001b[1;33m)\u001b[0m\u001b[1;33m)\u001b[0m\u001b[1;33m.\u001b[0m\u001b[0mpop\u001b[0m\u001b[1;33m(\u001b[0m\u001b[1;33m)\u001b[0m\u001b[1;33m\u001b[0m\u001b[1;33m\u001b[0m\u001b[0m\n\u001b[0m\u001b[0;32m    258\u001b[0m     \u001b[0m_check_data_cardinality\u001b[0m\u001b[1;33m(\u001b[0m\u001b[0minputs\u001b[0m\u001b[1;33m)\u001b[0m\u001b[1;33m\u001b[0m\u001b[1;33m\u001b[0m\u001b[0m\n\u001b[0;32m    259\u001b[0m \u001b[1;33m\u001b[0m\u001b[0m\n",
      "\u001b[1;31mKeyError\u001b[0m: 'pop from an empty set'"
     ]
    }
   ],
   "metadata": {}
  },
  {
   "cell_type": "code",
   "execution_count": 16,
   "source": [
    "FirstryDataTest['DISTANCE'] =  haversine((FirstryDataTest['LATITUD_ORIGEN'],FirstryDataTest['LONGITUD_ORIGEN']),(FirstryDataTest['LATITUD_DESTINO'],FirstryDataTest['LONGITUD_DESTINO']))"
   ],
   "outputs": [
    {
     "output_type": "error",
     "ename": "TypeError",
     "evalue": "cannot convert the series to <class 'float'>",
     "traceback": [
      "\u001b[1;31m---------------------------------------------------------------------------\u001b[0m",
      "\u001b[1;31mTypeError\u001b[0m                                 Traceback (most recent call last)",
      "\u001b[1;32m<ipython-input-16-7788c7ddd5ea>\u001b[0m in \u001b[0;36m<module>\u001b[1;34m\u001b[0m\n\u001b[1;32m----> 1\u001b[1;33m \u001b[0mFirstryDataTest\u001b[0m\u001b[1;33m[\u001b[0m\u001b[1;34m'DISTANCE'\u001b[0m\u001b[1;33m]\u001b[0m \u001b[1;33m=\u001b[0m  \u001b[0mhaversine\u001b[0m\u001b[1;33m(\u001b[0m\u001b[1;33m(\u001b[0m\u001b[0mFirstryDataTest\u001b[0m\u001b[1;33m[\u001b[0m\u001b[1;34m'LATITUD_ORIGEN'\u001b[0m\u001b[1;33m]\u001b[0m\u001b[1;33m,\u001b[0m\u001b[0mFirstryDataTest\u001b[0m\u001b[1;33m[\u001b[0m\u001b[1;34m'LONGITUD_ORIGEN'\u001b[0m\u001b[1;33m]\u001b[0m\u001b[1;33m)\u001b[0m\u001b[1;33m,\u001b[0m\u001b[1;33m(\u001b[0m\u001b[0mFirstryDataTest\u001b[0m\u001b[1;33m[\u001b[0m\u001b[1;34m'LATITUD_DESTINO'\u001b[0m\u001b[1;33m]\u001b[0m\u001b[1;33m,\u001b[0m\u001b[0mFirstryDataTest\u001b[0m\u001b[1;33m[\u001b[0m\u001b[1;34m'LONGITUD_DESTINO'\u001b[0m\u001b[1;33m]\u001b[0m\u001b[1;33m)\u001b[0m\u001b[1;33m)\u001b[0m\u001b[1;33m\u001b[0m\u001b[1;33m\u001b[0m\u001b[0m\n\u001b[0m",
      "\u001b[1;32m~\\AppData\\Local\\Programs\\Python\\Python39\\lib\\site-packages\\haversine\\haversine.py\u001b[0m in \u001b[0;36mhaversine\u001b[1;34m(point1, point2, unit)\u001b[0m\n\u001b[0;32m     63\u001b[0m \u001b[1;33m\u001b[0m\u001b[0m\n\u001b[0;32m     64\u001b[0m     \u001b[1;31m# convert all latitudes/longitudes from decimal degrees to radians\u001b[0m\u001b[1;33m\u001b[0m\u001b[1;33m\u001b[0m\u001b[1;33m\u001b[0m\u001b[0m\n\u001b[1;32m---> 65\u001b[1;33m     \u001b[0mlat1\u001b[0m \u001b[1;33m=\u001b[0m \u001b[0mradians\u001b[0m\u001b[1;33m(\u001b[0m\u001b[0mlat1\u001b[0m\u001b[1;33m)\u001b[0m\u001b[1;33m\u001b[0m\u001b[1;33m\u001b[0m\u001b[0m\n\u001b[0m\u001b[0;32m     66\u001b[0m     \u001b[0mlng1\u001b[0m \u001b[1;33m=\u001b[0m \u001b[0mradians\u001b[0m\u001b[1;33m(\u001b[0m\u001b[0mlng1\u001b[0m\u001b[1;33m)\u001b[0m\u001b[1;33m\u001b[0m\u001b[1;33m\u001b[0m\u001b[0m\n\u001b[0;32m     67\u001b[0m     \u001b[0mlat2\u001b[0m \u001b[1;33m=\u001b[0m \u001b[0mradians\u001b[0m\u001b[1;33m(\u001b[0m\u001b[0mlat2\u001b[0m\u001b[1;33m)\u001b[0m\u001b[1;33m\u001b[0m\u001b[1;33m\u001b[0m\u001b[0m\n",
      "\u001b[1;32m~\\AppData\\Local\\Programs\\Python\\Python39\\lib\\site-packages\\pandas\\core\\series.py\u001b[0m in \u001b[0;36mwrapper\u001b[1;34m(self)\u001b[0m\n\u001b[0;32m    139\u001b[0m         \u001b[1;32mif\u001b[0m \u001b[0mlen\u001b[0m\u001b[1;33m(\u001b[0m\u001b[0mself\u001b[0m\u001b[1;33m)\u001b[0m \u001b[1;33m==\u001b[0m \u001b[1;36m1\u001b[0m\u001b[1;33m:\u001b[0m\u001b[1;33m\u001b[0m\u001b[1;33m\u001b[0m\u001b[0m\n\u001b[0;32m    140\u001b[0m             \u001b[1;32mreturn\u001b[0m \u001b[0mconverter\u001b[0m\u001b[1;33m(\u001b[0m\u001b[0mself\u001b[0m\u001b[1;33m.\u001b[0m\u001b[0miloc\u001b[0m\u001b[1;33m[\u001b[0m\u001b[1;36m0\u001b[0m\u001b[1;33m]\u001b[0m\u001b[1;33m)\u001b[0m\u001b[1;33m\u001b[0m\u001b[1;33m\u001b[0m\u001b[0m\n\u001b[1;32m--> 141\u001b[1;33m         \u001b[1;32mraise\u001b[0m \u001b[0mTypeError\u001b[0m\u001b[1;33m(\u001b[0m\u001b[1;34mf\"cannot convert the series to {converter}\"\u001b[0m\u001b[1;33m)\u001b[0m\u001b[1;33m\u001b[0m\u001b[1;33m\u001b[0m\u001b[0m\n\u001b[0m\u001b[0;32m    142\u001b[0m \u001b[1;33m\u001b[0m\u001b[0m\n\u001b[0;32m    143\u001b[0m     \u001b[0mwrapper\u001b[0m\u001b[1;33m.\u001b[0m\u001b[0m__name__\u001b[0m \u001b[1;33m=\u001b[0m \u001b[1;34mf\"__{converter.__name__}__\"\u001b[0m\u001b[1;33m\u001b[0m\u001b[1;33m\u001b[0m\u001b[0m\n",
      "\u001b[1;31mTypeError\u001b[0m: cannot convert the series to <class 'float'>"
     ]
    }
   ],
   "metadata": {}
  },
  {
   "cell_type": "code",
   "execution_count": 15,
   "source": [
    "haversine((-5.201517,-80.64635), (-5.38453,-80.62314))*1000"
   ],
   "outputs": [
    {
     "output_type": "execute_result",
     "data": {
      "text/plain": [
       "20511.763603058524"
      ]
     },
     "metadata": {},
     "execution_count": 15
    }
   ],
   "metadata": {}
  },
  {
   "cell_type": "code",
   "execution_count": null,
   "source": [
    "haversine((FirstryDataTest['LATITUD_ORIGEN'],FirstryDataTest['LONGITUD_ORIGEN']),(FirstryDataTest['LATITUD_DESTINO'],FirstryDataTest['LONGITUD_DESTINO']))"
   ],
   "outputs": [],
   "metadata": {}
  },
  {
   "cell_type": "code",
   "execution_count": null,
   "source": [],
   "outputs": [],
   "metadata": {}
  },
  {
   "cell_type": "code",
   "execution_count": null,
   "source": [
    "FirstryDataTest.head()"
   ],
   "outputs": [],
   "metadata": {}
  },
  {
   "cell_type": "code",
   "execution_count": 17,
   "source": [
    "FirstryDataTest.describe()"
   ],
   "outputs": [
    {
     "output_type": "execute_result",
     "data": {
      "text/plain": [
       "                 ID  LATITUD_ORIGEN  LONGITUD_ORIGEN  LATITUD_DESTINO  \\\n",
       "count  8.520000e+02      852.000000       852.000000       852.000000   \n",
       "mean   1.240908e+08      -11.155288       -76.578589       -11.138460   \n",
       "std    2.519643e+03        3.044135         2.540964         3.053074   \n",
       "min    1.240350e+08      -18.019500       -81.264370       -18.077400   \n",
       "25%    1.240896e+08      -12.155830       -77.128658       -12.204548   \n",
       "50%    1.240909e+08      -11.991440       -77.012975       -12.029115   \n",
       "75%    1.240923e+08       -9.536713       -75.699210        -9.257240   \n",
       "max    1.240936e+08       -3.483565       -69.204390        -3.573830   \n",
       "\n",
       "       LONGITUD_DESTINO  \n",
       "count        852.000000  \n",
       "mean         -76.560789  \n",
       "std            2.565277  \n",
       "min          -81.306720  \n",
       "25%          -77.361910  \n",
       "50%          -77.007630  \n",
       "75%          -75.742840  \n",
       "max          -69.141940  "
      ],
      "text/html": [
       "<div>\n",
       "<style scoped>\n",
       "    .dataframe tbody tr th:only-of-type {\n",
       "        vertical-align: middle;\n",
       "    }\n",
       "\n",
       "    .dataframe tbody tr th {\n",
       "        vertical-align: top;\n",
       "    }\n",
       "\n",
       "    .dataframe thead th {\n",
       "        text-align: right;\n",
       "    }\n",
       "</style>\n",
       "<table border=\"1\" class=\"dataframe\">\n",
       "  <thead>\n",
       "    <tr style=\"text-align: right;\">\n",
       "      <th></th>\n",
       "      <th>ID</th>\n",
       "      <th>LATITUD_ORIGEN</th>\n",
       "      <th>LONGITUD_ORIGEN</th>\n",
       "      <th>LATITUD_DESTINO</th>\n",
       "      <th>LONGITUD_DESTINO</th>\n",
       "    </tr>\n",
       "  </thead>\n",
       "  <tbody>\n",
       "    <tr>\n",
       "      <th>count</th>\n",
       "      <td>8.520000e+02</td>\n",
       "      <td>852.000000</td>\n",
       "      <td>852.000000</td>\n",
       "      <td>852.000000</td>\n",
       "      <td>852.000000</td>\n",
       "    </tr>\n",
       "    <tr>\n",
       "      <th>mean</th>\n",
       "      <td>1.240908e+08</td>\n",
       "      <td>-11.155288</td>\n",
       "      <td>-76.578589</td>\n",
       "      <td>-11.138460</td>\n",
       "      <td>-76.560789</td>\n",
       "    </tr>\n",
       "    <tr>\n",
       "      <th>std</th>\n",
       "      <td>2.519643e+03</td>\n",
       "      <td>3.044135</td>\n",
       "      <td>2.540964</td>\n",
       "      <td>3.053074</td>\n",
       "      <td>2.565277</td>\n",
       "    </tr>\n",
       "    <tr>\n",
       "      <th>min</th>\n",
       "      <td>1.240350e+08</td>\n",
       "      <td>-18.019500</td>\n",
       "      <td>-81.264370</td>\n",
       "      <td>-18.077400</td>\n",
       "      <td>-81.306720</td>\n",
       "    </tr>\n",
       "    <tr>\n",
       "      <th>25%</th>\n",
       "      <td>1.240896e+08</td>\n",
       "      <td>-12.155830</td>\n",
       "      <td>-77.128658</td>\n",
       "      <td>-12.204548</td>\n",
       "      <td>-77.361910</td>\n",
       "    </tr>\n",
       "    <tr>\n",
       "      <th>50%</th>\n",
       "      <td>1.240909e+08</td>\n",
       "      <td>-11.991440</td>\n",
       "      <td>-77.012975</td>\n",
       "      <td>-12.029115</td>\n",
       "      <td>-77.007630</td>\n",
       "    </tr>\n",
       "    <tr>\n",
       "      <th>75%</th>\n",
       "      <td>1.240923e+08</td>\n",
       "      <td>-9.536713</td>\n",
       "      <td>-75.699210</td>\n",
       "      <td>-9.257240</td>\n",
       "      <td>-75.742840</td>\n",
       "    </tr>\n",
       "    <tr>\n",
       "      <th>max</th>\n",
       "      <td>1.240936e+08</td>\n",
       "      <td>-3.483565</td>\n",
       "      <td>-69.204390</td>\n",
       "      <td>-3.573830</td>\n",
       "      <td>-69.141940</td>\n",
       "    </tr>\n",
       "  </tbody>\n",
       "</table>\n",
       "</div>"
      ]
     },
     "metadata": {},
     "execution_count": 17
    }
   ],
   "metadata": {}
  },
  {
   "cell_type": "code",
   "execution_count": 26,
   "source": [
    "type(FirstryDataTest['LATITUD_ORIGEN'])"
   ],
   "outputs": [
    {
     "output_type": "execute_result",
     "data": {
      "text/plain": [
       "pandas.core.series.Series"
      ]
     },
     "metadata": {},
     "execution_count": 26
    }
   ],
   "metadata": {}
  },
  {
   "cell_type": "code",
   "execution_count": 25,
   "source": [
    "pd.float(FirstryDataTest['LATITUD_ORIGEN'])"
   ],
   "outputs": [
    {
     "output_type": "error",
     "ename": "AttributeError",
     "evalue": "module 'pandas' has no attribute 'float'",
     "traceback": [
      "\u001b[1;31m---------------------------------------------------------------------------\u001b[0m",
      "\u001b[1;31mAttributeError\u001b[0m                            Traceback (most recent call last)",
      "\u001b[1;32m<ipython-input-25-31096328bc83>\u001b[0m in \u001b[0;36m<module>\u001b[1;34m\u001b[0m\n\u001b[1;32m----> 1\u001b[1;33m \u001b[0mpd\u001b[0m\u001b[1;33m.\u001b[0m\u001b[0mfloat\u001b[0m\u001b[1;33m(\u001b[0m\u001b[0mFirstryDataTest\u001b[0m\u001b[1;33m[\u001b[0m\u001b[1;34m'LATITUD_ORIGEN'\u001b[0m\u001b[1;33m]\u001b[0m\u001b[1;33m)\u001b[0m\u001b[1;33m\u001b[0m\u001b[1;33m\u001b[0m\u001b[0m\n\u001b[0m",
      "\u001b[1;32m~\\AppData\\Local\\Programs\\Python\\Python39\\lib\\site-packages\\pandas\\__init__.py\u001b[0m in \u001b[0;36m__getattr__\u001b[1;34m(name)\u001b[0m\n\u001b[0;32m    242\u001b[0m         \u001b[1;32mreturn\u001b[0m \u001b[0m_SparseArray\u001b[0m\u001b[1;33m\u001b[0m\u001b[1;33m\u001b[0m\u001b[0m\n\u001b[0;32m    243\u001b[0m \u001b[1;33m\u001b[0m\u001b[0m\n\u001b[1;32m--> 244\u001b[1;33m     \u001b[1;32mraise\u001b[0m \u001b[0mAttributeError\u001b[0m\u001b[1;33m(\u001b[0m\u001b[1;34mf\"module 'pandas' has no attribute '{name}'\"\u001b[0m\u001b[1;33m)\u001b[0m\u001b[1;33m\u001b[0m\u001b[1;33m\u001b[0m\u001b[0m\n\u001b[0m\u001b[0;32m    245\u001b[0m \u001b[1;33m\u001b[0m\u001b[0m\n\u001b[0;32m    246\u001b[0m \u001b[1;33m\u001b[0m\u001b[0m\n",
      "\u001b[1;31mAttributeError\u001b[0m: module 'pandas' has no attribute 'float'"
     ]
    }
   ],
   "metadata": {}
  },
  {
   "cell_type": "code",
   "execution_count": 44,
   "source": [
    "FirstryDataTest[['LATITUD_ORIGEN','LONGITUD_ORIGEN','LATITUD_ORIGEN','LONGITUD_DESTINO']] = FirstryDataTest[['LATITUD_ORIGEN','LONGITUD_ORIGEN','LATITUD_ORIGEN','LONGITUD_DESTINO']]. astype(float)\r\n",
    "FirstryDataTest['DISTANCE'] = haversine((FirstryDataTest['LATITUD_ORIGEN'],FirstryDataTest['LONGITUD_ORIGEN']),(FirstryDataTest['LATITUD_DESTINO'],FirstryDataTest['LONGITUD_DESTINO']))"
   ],
   "outputs": [
    {
     "output_type": "error",
     "ename": "TypeError",
     "evalue": "cannot convert the series to <class 'float'>",
     "traceback": [
      "\u001b[1;31m---------------------------------------------------------------------------\u001b[0m",
      "\u001b[1;31mTypeError\u001b[0m                                 Traceback (most recent call last)",
      "\u001b[1;32m<ipython-input-44-8c29bddc5124>\u001b[0m in \u001b[0;36m<module>\u001b[1;34m\u001b[0m\n\u001b[0;32m      1\u001b[0m \u001b[0mFirstryDataTest\u001b[0m\u001b[1;33m[\u001b[0m\u001b[1;33m[\u001b[0m\u001b[1;34m'LATITUD_ORIGEN'\u001b[0m\u001b[1;33m,\u001b[0m\u001b[1;34m'LONGITUD_ORIGEN'\u001b[0m\u001b[1;33m,\u001b[0m\u001b[1;34m'LATITUD_ORIGEN'\u001b[0m\u001b[1;33m,\u001b[0m\u001b[1;34m'LONGITUD_DESTINO'\u001b[0m\u001b[1;33m]\u001b[0m\u001b[1;33m]\u001b[0m \u001b[1;33m=\u001b[0m \u001b[0mFirstryDataTest\u001b[0m\u001b[1;33m[\u001b[0m\u001b[1;33m[\u001b[0m\u001b[1;34m'LATITUD_ORIGEN'\u001b[0m\u001b[1;33m,\u001b[0m\u001b[1;34m'LONGITUD_ORIGEN'\u001b[0m\u001b[1;33m,\u001b[0m\u001b[1;34m'LATITUD_ORIGEN'\u001b[0m\u001b[1;33m,\u001b[0m\u001b[1;34m'LONGITUD_DESTINO'\u001b[0m\u001b[1;33m]\u001b[0m\u001b[1;33m]\u001b[0m\u001b[1;33m.\u001b[0m \u001b[0mastype\u001b[0m\u001b[1;33m(\u001b[0m\u001b[0mfloat\u001b[0m\u001b[1;33m)\u001b[0m\u001b[1;33m\u001b[0m\u001b[1;33m\u001b[0m\u001b[0m\n\u001b[1;32m----> 2\u001b[1;33m \u001b[0mFirstryDataTest\u001b[0m\u001b[1;33m[\u001b[0m\u001b[1;34m'DISTANCE'\u001b[0m\u001b[1;33m]\u001b[0m \u001b[1;33m=\u001b[0m \u001b[0mhaversine\u001b[0m\u001b[1;33m(\u001b[0m\u001b[1;33m(\u001b[0m\u001b[0mFirstryDataTest\u001b[0m\u001b[1;33m[\u001b[0m\u001b[1;34m'LATITUD_ORIGEN'\u001b[0m\u001b[1;33m]\u001b[0m\u001b[1;33m,\u001b[0m\u001b[0mFirstryDataTest\u001b[0m\u001b[1;33m[\u001b[0m\u001b[1;34m'LONGITUD_ORIGEN'\u001b[0m\u001b[1;33m]\u001b[0m\u001b[1;33m)\u001b[0m\u001b[1;33m,\u001b[0m\u001b[1;33m(\u001b[0m\u001b[0mFirstryDataTest\u001b[0m\u001b[1;33m[\u001b[0m\u001b[1;34m'LATITUD_DESTINO'\u001b[0m\u001b[1;33m]\u001b[0m\u001b[1;33m,\u001b[0m\u001b[0mFirstryDataTest\u001b[0m\u001b[1;33m[\u001b[0m\u001b[1;34m'LONGITUD_DESTINO'\u001b[0m\u001b[1;33m]\u001b[0m\u001b[1;33m)\u001b[0m\u001b[1;33m)\u001b[0m\u001b[1;33m\u001b[0m\u001b[1;33m\u001b[0m\u001b[0m\n\u001b[0m",
      "\u001b[1;32m~\\AppData\\Local\\Programs\\Python\\Python39\\lib\\site-packages\\haversine\\haversine.py\u001b[0m in \u001b[0;36mhaversine\u001b[1;34m(point1, point2, unit)\u001b[0m\n\u001b[0;32m     63\u001b[0m \u001b[1;33m\u001b[0m\u001b[0m\n\u001b[0;32m     64\u001b[0m     \u001b[1;31m# convert all latitudes/longitudes from decimal degrees to radians\u001b[0m\u001b[1;33m\u001b[0m\u001b[1;33m\u001b[0m\u001b[1;33m\u001b[0m\u001b[0m\n\u001b[1;32m---> 65\u001b[1;33m     \u001b[0mlat1\u001b[0m \u001b[1;33m=\u001b[0m \u001b[0mradians\u001b[0m\u001b[1;33m(\u001b[0m\u001b[0mlat1\u001b[0m\u001b[1;33m)\u001b[0m\u001b[1;33m\u001b[0m\u001b[1;33m\u001b[0m\u001b[0m\n\u001b[0m\u001b[0;32m     66\u001b[0m     \u001b[0mlng1\u001b[0m \u001b[1;33m=\u001b[0m \u001b[0mradians\u001b[0m\u001b[1;33m(\u001b[0m\u001b[0mlng1\u001b[0m\u001b[1;33m)\u001b[0m\u001b[1;33m\u001b[0m\u001b[1;33m\u001b[0m\u001b[0m\n\u001b[0;32m     67\u001b[0m     \u001b[0mlat2\u001b[0m \u001b[1;33m=\u001b[0m \u001b[0mradians\u001b[0m\u001b[1;33m(\u001b[0m\u001b[0mlat2\u001b[0m\u001b[1;33m)\u001b[0m\u001b[1;33m\u001b[0m\u001b[1;33m\u001b[0m\u001b[0m\n",
      "\u001b[1;32m~\\AppData\\Local\\Programs\\Python\\Python39\\lib\\site-packages\\pandas\\core\\series.py\u001b[0m in \u001b[0;36mwrapper\u001b[1;34m(self)\u001b[0m\n\u001b[0;32m    139\u001b[0m         \u001b[1;32mif\u001b[0m \u001b[0mlen\u001b[0m\u001b[1;33m(\u001b[0m\u001b[0mself\u001b[0m\u001b[1;33m)\u001b[0m \u001b[1;33m==\u001b[0m \u001b[1;36m1\u001b[0m\u001b[1;33m:\u001b[0m\u001b[1;33m\u001b[0m\u001b[1;33m\u001b[0m\u001b[0m\n\u001b[0;32m    140\u001b[0m             \u001b[1;32mreturn\u001b[0m \u001b[0mconverter\u001b[0m\u001b[1;33m(\u001b[0m\u001b[0mself\u001b[0m\u001b[1;33m.\u001b[0m\u001b[0miloc\u001b[0m\u001b[1;33m[\u001b[0m\u001b[1;36m0\u001b[0m\u001b[1;33m]\u001b[0m\u001b[1;33m)\u001b[0m\u001b[1;33m\u001b[0m\u001b[1;33m\u001b[0m\u001b[0m\n\u001b[1;32m--> 141\u001b[1;33m         \u001b[1;32mraise\u001b[0m \u001b[0mTypeError\u001b[0m\u001b[1;33m(\u001b[0m\u001b[1;34mf\"cannot convert the series to {converter}\"\u001b[0m\u001b[1;33m)\u001b[0m\u001b[1;33m\u001b[0m\u001b[1;33m\u001b[0m\u001b[0m\n\u001b[0m\u001b[0;32m    142\u001b[0m \u001b[1;33m\u001b[0m\u001b[0m\n\u001b[0;32m    143\u001b[0m     \u001b[0mwrapper\u001b[0m\u001b[1;33m.\u001b[0m\u001b[0m__name__\u001b[0m \u001b[1;33m=\u001b[0m \u001b[1;34mf\"__{converter.__name__}__\"\u001b[0m\u001b[1;33m\u001b[0m\u001b[1;33m\u001b[0m\u001b[0m\n",
      "\u001b[1;31mTypeError\u001b[0m: cannot convert the series to <class 'float'>"
     ]
    }
   ],
   "metadata": {}
  },
  {
   "cell_type": "code",
   "execution_count": 46,
   "source": [
    "FirstryDataTest['LATITUD_ORIGEN'] = FirstryDataTest['LATITUD_ORIGEN'].astype(float)"
   ],
   "outputs": [],
   "metadata": {}
  },
  {
   "cell_type": "code",
   "execution_count": 47,
   "source": [
    "type(FirstryDataTest['LATITUD_ORIGEN'])"
   ],
   "outputs": [
    {
     "output_type": "execute_result",
     "data": {
      "text/plain": [
       "pandas.core.series.Series"
      ]
     },
     "metadata": {},
     "execution_count": 47
    }
   ],
   "metadata": {}
  },
  {
   "cell_type": "code",
   "execution_count": 48,
   "source": [
    "pd.Series(FirstryData['LONGITUD_ORIGEN']).convert_objects(convert_numeric=True)"
   ],
   "outputs": [
    {
     "output_type": "error",
     "ename": "AttributeError",
     "evalue": "'Series' object has no attribute 'convert_objects'",
     "traceback": [
      "\u001b[1;31m---------------------------------------------------------------------------\u001b[0m",
      "\u001b[1;31mAttributeError\u001b[0m                            Traceback (most recent call last)",
      "\u001b[1;32m<ipython-input-48-4b136da7e412>\u001b[0m in \u001b[0;36m<module>\u001b[1;34m\u001b[0m\n\u001b[1;32m----> 1\u001b[1;33m \u001b[0mpd\u001b[0m\u001b[1;33m.\u001b[0m\u001b[0mSeries\u001b[0m\u001b[1;33m(\u001b[0m\u001b[0mFirstryData\u001b[0m\u001b[1;33m[\u001b[0m\u001b[1;34m'LONGITUD_ORIGEN'\u001b[0m\u001b[1;33m]\u001b[0m\u001b[1;33m)\u001b[0m\u001b[1;33m.\u001b[0m\u001b[0mconvert_objects\u001b[0m\u001b[1;33m(\u001b[0m\u001b[0mconvert_numeric\u001b[0m\u001b[1;33m=\u001b[0m\u001b[1;32mTrue\u001b[0m\u001b[1;33m)\u001b[0m\u001b[1;33m\u001b[0m\u001b[1;33m\u001b[0m\u001b[0m\n\u001b[0m",
      "\u001b[1;32m~\\AppData\\Local\\Programs\\Python\\Python39\\lib\\site-packages\\pandas\\core\\generic.py\u001b[0m in \u001b[0;36m__getattr__\u001b[1;34m(self, name)\u001b[0m\n\u001b[0;32m   5463\u001b[0m             \u001b[1;32mif\u001b[0m \u001b[0mself\u001b[0m\u001b[1;33m.\u001b[0m\u001b[0m_info_axis\u001b[0m\u001b[1;33m.\u001b[0m\u001b[0m_can_hold_identifiers_and_holds_name\u001b[0m\u001b[1;33m(\u001b[0m\u001b[0mname\u001b[0m\u001b[1;33m)\u001b[0m\u001b[1;33m:\u001b[0m\u001b[1;33m\u001b[0m\u001b[1;33m\u001b[0m\u001b[0m\n\u001b[0;32m   5464\u001b[0m                 \u001b[1;32mreturn\u001b[0m \u001b[0mself\u001b[0m\u001b[1;33m[\u001b[0m\u001b[0mname\u001b[0m\u001b[1;33m]\u001b[0m\u001b[1;33m\u001b[0m\u001b[1;33m\u001b[0m\u001b[0m\n\u001b[1;32m-> 5465\u001b[1;33m             \u001b[1;32mreturn\u001b[0m \u001b[0mobject\u001b[0m\u001b[1;33m.\u001b[0m\u001b[0m__getattribute__\u001b[0m\u001b[1;33m(\u001b[0m\u001b[0mself\u001b[0m\u001b[1;33m,\u001b[0m \u001b[0mname\u001b[0m\u001b[1;33m)\u001b[0m\u001b[1;33m\u001b[0m\u001b[1;33m\u001b[0m\u001b[0m\n\u001b[0m\u001b[0;32m   5466\u001b[0m \u001b[1;33m\u001b[0m\u001b[0m\n\u001b[0;32m   5467\u001b[0m     \u001b[1;32mdef\u001b[0m \u001b[0m__setattr__\u001b[0m\u001b[1;33m(\u001b[0m\u001b[0mself\u001b[0m\u001b[1;33m,\u001b[0m \u001b[0mname\u001b[0m\u001b[1;33m:\u001b[0m \u001b[0mstr\u001b[0m\u001b[1;33m,\u001b[0m \u001b[0mvalue\u001b[0m\u001b[1;33m)\u001b[0m \u001b[1;33m->\u001b[0m \u001b[1;32mNone\u001b[0m\u001b[1;33m:\u001b[0m\u001b[1;33m\u001b[0m\u001b[1;33m\u001b[0m\u001b[0m\n",
      "\u001b[1;31mAttributeError\u001b[0m: 'Series' object has no attribute 'convert_objects'"
     ]
    }
   ],
   "metadata": {}
  },
  {
   "cell_type": "code",
   "execution_count": 49,
   "source": [
    "pd.to_numeric(FirstryDataTest['LONGITUD_ORIGEN'])"
   ],
   "outputs": [
    {
     "output_type": "execute_result",
     "data": {
      "text/plain": [
       "0     -74.99228\n",
       "1     -78.51395\n",
       "2     -77.11206\n",
       "3     -76.97977\n",
       "4     -77.04678\n",
       "         ...   \n",
       "847   -77.12262\n",
       "848   -77.11545\n",
       "849   -76.97981\n",
       "850   -76.97981\n",
       "851   -70.02085\n",
       "Name: LONGITUD_ORIGEN, Length: 852, dtype: float64"
      ]
     },
     "metadata": {},
     "execution_count": 49
    }
   ],
   "metadata": {}
  },
  {
   "cell_type": "code",
   "execution_count": 51,
   "source": [
    "FirstryDataTest.head(n=1)"
   ],
   "outputs": [
    {
     "output_type": "execute_result",
     "data": {
      "text/plain": [
       "          ID       FECHA  LATITUD_ORIGEN  LONGITUD_ORIGEN  LATITUD_DESTINO  \\\n",
       "0  124089165  2021-07-20       -12.78105        -74.99228        -12.76703   \n",
       "\n",
       "   LONGITUD_DESTINO  \n",
       "0         -74.64612  "
      ],
      "text/html": [
       "<div>\n",
       "<style scoped>\n",
       "    .dataframe tbody tr th:only-of-type {\n",
       "        vertical-align: middle;\n",
       "    }\n",
       "\n",
       "    .dataframe tbody tr th {\n",
       "        vertical-align: top;\n",
       "    }\n",
       "\n",
       "    .dataframe thead th {\n",
       "        text-align: right;\n",
       "    }\n",
       "</style>\n",
       "<table border=\"1\" class=\"dataframe\">\n",
       "  <thead>\n",
       "    <tr style=\"text-align: right;\">\n",
       "      <th></th>\n",
       "      <th>ID</th>\n",
       "      <th>FECHA</th>\n",
       "      <th>LATITUD_ORIGEN</th>\n",
       "      <th>LONGITUD_ORIGEN</th>\n",
       "      <th>LATITUD_DESTINO</th>\n",
       "      <th>LONGITUD_DESTINO</th>\n",
       "    </tr>\n",
       "  </thead>\n",
       "  <tbody>\n",
       "    <tr>\n",
       "      <th>0</th>\n",
       "      <td>124089165</td>\n",
       "      <td>2021-07-20</td>\n",
       "      <td>-12.78105</td>\n",
       "      <td>-74.99228</td>\n",
       "      <td>-12.76703</td>\n",
       "      <td>-74.64612</td>\n",
       "    </tr>\n",
       "  </tbody>\n",
       "</table>\n",
       "</div>"
      ]
     },
     "metadata": {},
     "execution_count": 51
    }
   ],
   "metadata": {}
  },
  {
   "cell_type": "code",
   "execution_count": null,
   "source": [
    "a = {\"ID\":FirstryDataTest['ID'],\"Fabian\":16}\r\n",
    "\r\n",
    "df = pd.DataFrame(a,index=range(1,len(a)))\r\n",
    "df"
   ],
   "outputs": [],
   "metadata": {}
  },
  {
   "cell_type": "code",
   "execution_count": 52,
   "source": [
    "FirstryDataTest[['LATITUD_ORIGEN','LONGITUD_ORIGEN','LATITUD_ORIGEN','LONGITUD_DESTINO']] = FirstryDataTest[['LATITUD_ORIGEN','LONGITUD_ORIGEN','LATITUD_ORIGEN','LONGITUD_DESTINO']]. astype(float)\r\n",
    "FirstryDataTest['DISTANCE'] = haversine((pd.to_numeric(FirstryDataTest['LATITUD_ORIGEN']),pd.to_numeric(FirstryDataTest['LONGITUD_ORIGEN'])),(pd.to_numeric(FirstryDataTest['LATITUD_DESTINO']),pd.to_numeric(FirstryDataTest['LONGITUD_DESTINO'])))"
   ],
   "outputs": [
    {
     "output_type": "error",
     "ename": "TypeError",
     "evalue": "cannot convert the series to <class 'float'>",
     "traceback": [
      "\u001b[1;31m---------------------------------------------------------------------------\u001b[0m",
      "\u001b[1;31mTypeError\u001b[0m                                 Traceback (most recent call last)",
      "\u001b[1;32m<ipython-input-52-0c13751f1179>\u001b[0m in \u001b[0;36m<module>\u001b[1;34m\u001b[0m\n\u001b[0;32m      1\u001b[0m \u001b[0mFirstryDataTest\u001b[0m\u001b[1;33m[\u001b[0m\u001b[1;33m[\u001b[0m\u001b[1;34m'LATITUD_ORIGEN'\u001b[0m\u001b[1;33m,\u001b[0m\u001b[1;34m'LONGITUD_ORIGEN'\u001b[0m\u001b[1;33m,\u001b[0m\u001b[1;34m'LATITUD_ORIGEN'\u001b[0m\u001b[1;33m,\u001b[0m\u001b[1;34m'LONGITUD_DESTINO'\u001b[0m\u001b[1;33m]\u001b[0m\u001b[1;33m]\u001b[0m \u001b[1;33m=\u001b[0m \u001b[0mFirstryDataTest\u001b[0m\u001b[1;33m[\u001b[0m\u001b[1;33m[\u001b[0m\u001b[1;34m'LATITUD_ORIGEN'\u001b[0m\u001b[1;33m,\u001b[0m\u001b[1;34m'LONGITUD_ORIGEN'\u001b[0m\u001b[1;33m,\u001b[0m\u001b[1;34m'LATITUD_ORIGEN'\u001b[0m\u001b[1;33m,\u001b[0m\u001b[1;34m'LONGITUD_DESTINO'\u001b[0m\u001b[1;33m]\u001b[0m\u001b[1;33m]\u001b[0m\u001b[1;33m.\u001b[0m \u001b[0mastype\u001b[0m\u001b[1;33m(\u001b[0m\u001b[0mfloat\u001b[0m\u001b[1;33m)\u001b[0m\u001b[1;33m\u001b[0m\u001b[1;33m\u001b[0m\u001b[0m\n\u001b[1;32m----> 2\u001b[1;33m \u001b[0mFirstryDataTest\u001b[0m\u001b[1;33m[\u001b[0m\u001b[1;34m'DISTANCE'\u001b[0m\u001b[1;33m]\u001b[0m \u001b[1;33m=\u001b[0m \u001b[0mhaversine\u001b[0m\u001b[1;33m(\u001b[0m\u001b[1;33m(\u001b[0m\u001b[0mpd\u001b[0m\u001b[1;33m.\u001b[0m\u001b[0mto_numeric\u001b[0m\u001b[1;33m(\u001b[0m\u001b[0mFirstryDataTest\u001b[0m\u001b[1;33m[\u001b[0m\u001b[1;34m'LATITUD_ORIGEN'\u001b[0m\u001b[1;33m]\u001b[0m\u001b[1;33m)\u001b[0m\u001b[1;33m,\u001b[0m\u001b[0mpd\u001b[0m\u001b[1;33m.\u001b[0m\u001b[0mto_numeric\u001b[0m\u001b[1;33m(\u001b[0m\u001b[0mFirstryDataTest\u001b[0m\u001b[1;33m[\u001b[0m\u001b[1;34m'LONGITUD_ORIGEN'\u001b[0m\u001b[1;33m]\u001b[0m\u001b[1;33m)\u001b[0m\u001b[1;33m)\u001b[0m\u001b[1;33m,\u001b[0m\u001b[1;33m(\u001b[0m\u001b[0mpd\u001b[0m\u001b[1;33m.\u001b[0m\u001b[0mto_numeric\u001b[0m\u001b[1;33m(\u001b[0m\u001b[0mFirstryDataTest\u001b[0m\u001b[1;33m[\u001b[0m\u001b[1;34m'LATITUD_DESTINO'\u001b[0m\u001b[1;33m]\u001b[0m\u001b[1;33m)\u001b[0m\u001b[1;33m,\u001b[0m\u001b[0mpd\u001b[0m\u001b[1;33m.\u001b[0m\u001b[0mto_numeric\u001b[0m\u001b[1;33m(\u001b[0m\u001b[0mFirstryDataTest\u001b[0m\u001b[1;33m[\u001b[0m\u001b[1;34m'LONGITUD_DESTINO'\u001b[0m\u001b[1;33m]\u001b[0m\u001b[1;33m)\u001b[0m\u001b[1;33m)\u001b[0m\u001b[1;33m)\u001b[0m\u001b[1;33m\u001b[0m\u001b[1;33m\u001b[0m\u001b[0m\n\u001b[0m",
      "\u001b[1;32m~\\AppData\\Local\\Programs\\Python\\Python39\\lib\\site-packages\\haversine\\haversine.py\u001b[0m in \u001b[0;36mhaversine\u001b[1;34m(point1, point2, unit)\u001b[0m\n\u001b[0;32m     63\u001b[0m \u001b[1;33m\u001b[0m\u001b[0m\n\u001b[0;32m     64\u001b[0m     \u001b[1;31m# convert all latitudes/longitudes from decimal degrees to radians\u001b[0m\u001b[1;33m\u001b[0m\u001b[1;33m\u001b[0m\u001b[1;33m\u001b[0m\u001b[0m\n\u001b[1;32m---> 65\u001b[1;33m     \u001b[0mlat1\u001b[0m \u001b[1;33m=\u001b[0m \u001b[0mradians\u001b[0m\u001b[1;33m(\u001b[0m\u001b[0mlat1\u001b[0m\u001b[1;33m)\u001b[0m\u001b[1;33m\u001b[0m\u001b[1;33m\u001b[0m\u001b[0m\n\u001b[0m\u001b[0;32m     66\u001b[0m     \u001b[0mlng1\u001b[0m \u001b[1;33m=\u001b[0m \u001b[0mradians\u001b[0m\u001b[1;33m(\u001b[0m\u001b[0mlng1\u001b[0m\u001b[1;33m)\u001b[0m\u001b[1;33m\u001b[0m\u001b[1;33m\u001b[0m\u001b[0m\n\u001b[0;32m     67\u001b[0m     \u001b[0mlat2\u001b[0m \u001b[1;33m=\u001b[0m \u001b[0mradians\u001b[0m\u001b[1;33m(\u001b[0m\u001b[0mlat2\u001b[0m\u001b[1;33m)\u001b[0m\u001b[1;33m\u001b[0m\u001b[1;33m\u001b[0m\u001b[0m\n",
      "\u001b[1;32m~\\AppData\\Local\\Programs\\Python\\Python39\\lib\\site-packages\\pandas\\core\\series.py\u001b[0m in \u001b[0;36mwrapper\u001b[1;34m(self)\u001b[0m\n\u001b[0;32m    139\u001b[0m         \u001b[1;32mif\u001b[0m \u001b[0mlen\u001b[0m\u001b[1;33m(\u001b[0m\u001b[0mself\u001b[0m\u001b[1;33m)\u001b[0m \u001b[1;33m==\u001b[0m \u001b[1;36m1\u001b[0m\u001b[1;33m:\u001b[0m\u001b[1;33m\u001b[0m\u001b[1;33m\u001b[0m\u001b[0m\n\u001b[0;32m    140\u001b[0m             \u001b[1;32mreturn\u001b[0m \u001b[0mconverter\u001b[0m\u001b[1;33m(\u001b[0m\u001b[0mself\u001b[0m\u001b[1;33m.\u001b[0m\u001b[0miloc\u001b[0m\u001b[1;33m[\u001b[0m\u001b[1;36m0\u001b[0m\u001b[1;33m]\u001b[0m\u001b[1;33m)\u001b[0m\u001b[1;33m\u001b[0m\u001b[1;33m\u001b[0m\u001b[0m\n\u001b[1;32m--> 141\u001b[1;33m         \u001b[1;32mraise\u001b[0m \u001b[0mTypeError\u001b[0m\u001b[1;33m(\u001b[0m\u001b[1;34mf\"cannot convert the series to {converter}\"\u001b[0m\u001b[1;33m)\u001b[0m\u001b[1;33m\u001b[0m\u001b[1;33m\u001b[0m\u001b[0m\n\u001b[0m\u001b[0;32m    142\u001b[0m \u001b[1;33m\u001b[0m\u001b[0m\n\u001b[0;32m    143\u001b[0m     \u001b[0mwrapper\u001b[0m\u001b[1;33m.\u001b[0m\u001b[0m__name__\u001b[0m \u001b[1;33m=\u001b[0m \u001b[1;34mf\"__{converter.__name__}__\"\u001b[0m\u001b[1;33m\u001b[0m\u001b[1;33m\u001b[0m\u001b[0m\n",
      "\u001b[1;31mTypeError\u001b[0m: cannot convert the series to <class 'float'>"
     ]
    }
   ],
   "metadata": {}
  },
  {
   "cell_type": "code",
   "execution_count": 66,
   "source": [
    "DataRele =  FirstryDataTest.iloc[:,2:6].copy()"
   ],
   "outputs": [],
   "metadata": {}
  },
  {
   "cell_type": "code",
   "execution_count": 73,
   "source": [
    "type(DataRele)"
   ],
   "outputs": [
    {
     "output_type": "execute_result",
     "data": {
      "text/plain": [
       "pandas.core.frame.DataFrame"
      ]
     },
     "metadata": {},
     "execution_count": 73
    }
   ],
   "metadata": {}
  },
  {
   "cell_type": "code",
   "execution_count": 71,
   "source": [
    "DataRele['LATITUD_ORIGEN'] = DataRele['LATITUD_ORIGEN'].astype(float) "
   ],
   "outputs": [],
   "metadata": {}
  },
  {
   "cell_type": "code",
   "execution_count": 72,
   "source": [
    "type(DataRele['LATITUD_ORIGEN'])"
   ],
   "outputs": [
    {
     "output_type": "execute_result",
     "data": {
      "text/plain": [
       "pandas.core.series.Series"
      ]
     },
     "metadata": {},
     "execution_count": 72
    }
   ],
   "metadata": {}
  },
  {
   "cell_type": "code",
   "execution_count": 129,
   "source": [
    "Data1Dir\r\n",
    "\r\n",
    "RawDataTrain = pd.DataFrame(RawData).to_numpy()\r\n",
    "\r\n",
    "RawDataTrain[:,2:6]\r\n",
    "\r\n",
    "\r\n"
   ],
   "outputs": [
    {
     "output_type": "execute_result",
     "data": {
      "text/plain": [
       "array([[-11.96507, -77.12269, -12.0702, -77.13524000000001],\n",
       "       [-12.15509, -76.97996, -12.0757, -76.91754],\n",
       "       [-14.53377, -75.1846, -14.8863, -74.99414],\n",
       "       ...,\n",
       "       [-17.99194, -70.25442, -18.0774, -70.30064],\n",
       "       [-7.817392, -78.04557, -8.04841, -79.06494],\n",
       "       [-12.15583, -76.98, -12.13913, -76.99422]], dtype=object)"
      ]
     },
     "metadata": {},
     "execution_count": 129
    }
   ],
   "metadata": {}
  },
  {
   "cell_type": "code",
   "execution_count": 133,
   "source": [
    "modelo = linear_model.LinearRegression()  \r\n",
    "\r\n",
    "x_train = RawDataTrain[:,2:6]\r\n",
    "x_train = x_train.T\r\n",
    "\r\n",
    "y_train = RawDataTrain[:,7]\r\n",
    "y_train= y_train[None]\r\n",
    "\r\n",
    "\r\n",
    "\r\n",
    "modelo.fit(x_train,y_train)\r\n",
    "\r\n",
    "\r\n",
    "\r\n"
   ],
   "outputs": [
    {
     "output_type": "error",
     "ename": "ValueError",
     "evalue": "Found input variables with inconsistent numbers of samples: [4, 1]",
     "traceback": [
      "\u001b[1;31m---------------------------------------------------------------------------\u001b[0m",
      "\u001b[1;31mValueError\u001b[0m                                Traceback (most recent call last)",
      "\u001b[1;32m<ipython-input-133-2a1da97342bc>\u001b[0m in \u001b[0;36m<module>\u001b[1;34m\u001b[0m\n\u001b[0;32m      9\u001b[0m \u001b[1;33m\u001b[0m\u001b[0m\n\u001b[0;32m     10\u001b[0m \u001b[1;33m\u001b[0m\u001b[0m\n\u001b[1;32m---> 11\u001b[1;33m \u001b[0mmodelo\u001b[0m\u001b[1;33m.\u001b[0m\u001b[0mfit\u001b[0m\u001b[1;33m(\u001b[0m\u001b[0mx_train\u001b[0m\u001b[1;33m,\u001b[0m\u001b[0my_train\u001b[0m\u001b[1;33m)\u001b[0m\u001b[1;33m\u001b[0m\u001b[1;33m\u001b[0m\u001b[0m\n\u001b[0m\u001b[0;32m     12\u001b[0m \u001b[1;33m\u001b[0m\u001b[0m\n\u001b[0;32m     13\u001b[0m \u001b[1;33m\u001b[0m\u001b[0m\n",
      "\u001b[1;32m~\\AppData\\Local\\Programs\\Python\\Python39\\lib\\site-packages\\sklearn\\linear_model\\_base.py\u001b[0m in \u001b[0;36mfit\u001b[1;34m(self, X, y, sample_weight)\u001b[0m\n\u001b[0;32m    516\u001b[0m         \u001b[0maccept_sparse\u001b[0m \u001b[1;33m=\u001b[0m \u001b[1;32mFalse\u001b[0m \u001b[1;32mif\u001b[0m \u001b[0mself\u001b[0m\u001b[1;33m.\u001b[0m\u001b[0mpositive\u001b[0m \u001b[1;32melse\u001b[0m \u001b[1;33m[\u001b[0m\u001b[1;34m'csr'\u001b[0m\u001b[1;33m,\u001b[0m \u001b[1;34m'csc'\u001b[0m\u001b[1;33m,\u001b[0m \u001b[1;34m'coo'\u001b[0m\u001b[1;33m]\u001b[0m\u001b[1;33m\u001b[0m\u001b[1;33m\u001b[0m\u001b[0m\n\u001b[0;32m    517\u001b[0m \u001b[1;33m\u001b[0m\u001b[0m\n\u001b[1;32m--> 518\u001b[1;33m         X, y = self._validate_data(X, y, accept_sparse=accept_sparse,\n\u001b[0m\u001b[0;32m    519\u001b[0m                                    y_numeric=True, multi_output=True)\n\u001b[0;32m    520\u001b[0m \u001b[1;33m\u001b[0m\u001b[0m\n",
      "\u001b[1;32m~\\AppData\\Local\\Programs\\Python\\Python39\\lib\\site-packages\\sklearn\\base.py\u001b[0m in \u001b[0;36m_validate_data\u001b[1;34m(self, X, y, reset, validate_separately, **check_params)\u001b[0m\n\u001b[0;32m    431\u001b[0m                 \u001b[0my\u001b[0m \u001b[1;33m=\u001b[0m \u001b[0mcheck_array\u001b[0m\u001b[1;33m(\u001b[0m\u001b[0my\u001b[0m\u001b[1;33m,\u001b[0m \u001b[1;33m**\u001b[0m\u001b[0mcheck_y_params\u001b[0m\u001b[1;33m)\u001b[0m\u001b[1;33m\u001b[0m\u001b[1;33m\u001b[0m\u001b[0m\n\u001b[0;32m    432\u001b[0m             \u001b[1;32melse\u001b[0m\u001b[1;33m:\u001b[0m\u001b[1;33m\u001b[0m\u001b[1;33m\u001b[0m\u001b[0m\n\u001b[1;32m--> 433\u001b[1;33m                 \u001b[0mX\u001b[0m\u001b[1;33m,\u001b[0m \u001b[0my\u001b[0m \u001b[1;33m=\u001b[0m \u001b[0mcheck_X_y\u001b[0m\u001b[1;33m(\u001b[0m\u001b[0mX\u001b[0m\u001b[1;33m,\u001b[0m \u001b[0my\u001b[0m\u001b[1;33m,\u001b[0m \u001b[1;33m**\u001b[0m\u001b[0mcheck_params\u001b[0m\u001b[1;33m)\u001b[0m\u001b[1;33m\u001b[0m\u001b[1;33m\u001b[0m\u001b[0m\n\u001b[0m\u001b[0;32m    434\u001b[0m             \u001b[0mout\u001b[0m \u001b[1;33m=\u001b[0m \u001b[0mX\u001b[0m\u001b[1;33m,\u001b[0m \u001b[0my\u001b[0m\u001b[1;33m\u001b[0m\u001b[1;33m\u001b[0m\u001b[0m\n\u001b[0;32m    435\u001b[0m \u001b[1;33m\u001b[0m\u001b[0m\n",
      "\u001b[1;32m~\\AppData\\Local\\Programs\\Python\\Python39\\lib\\site-packages\\sklearn\\utils\\validation.py\u001b[0m in \u001b[0;36minner_f\u001b[1;34m(*args, **kwargs)\u001b[0m\n\u001b[0;32m     61\u001b[0m             \u001b[0mextra_args\u001b[0m \u001b[1;33m=\u001b[0m \u001b[0mlen\u001b[0m\u001b[1;33m(\u001b[0m\u001b[0margs\u001b[0m\u001b[1;33m)\u001b[0m \u001b[1;33m-\u001b[0m \u001b[0mlen\u001b[0m\u001b[1;33m(\u001b[0m\u001b[0mall_args\u001b[0m\u001b[1;33m)\u001b[0m\u001b[1;33m\u001b[0m\u001b[1;33m\u001b[0m\u001b[0m\n\u001b[0;32m     62\u001b[0m             \u001b[1;32mif\u001b[0m \u001b[0mextra_args\u001b[0m \u001b[1;33m<=\u001b[0m \u001b[1;36m0\u001b[0m\u001b[1;33m:\u001b[0m\u001b[1;33m\u001b[0m\u001b[1;33m\u001b[0m\u001b[0m\n\u001b[1;32m---> 63\u001b[1;33m                 \u001b[1;32mreturn\u001b[0m \u001b[0mf\u001b[0m\u001b[1;33m(\u001b[0m\u001b[1;33m*\u001b[0m\u001b[0margs\u001b[0m\u001b[1;33m,\u001b[0m \u001b[1;33m**\u001b[0m\u001b[0mkwargs\u001b[0m\u001b[1;33m)\u001b[0m\u001b[1;33m\u001b[0m\u001b[1;33m\u001b[0m\u001b[0m\n\u001b[0m\u001b[0;32m     64\u001b[0m \u001b[1;33m\u001b[0m\u001b[0m\n\u001b[0;32m     65\u001b[0m             \u001b[1;31m# extra_args > 0\u001b[0m\u001b[1;33m\u001b[0m\u001b[1;33m\u001b[0m\u001b[1;33m\u001b[0m\u001b[0m\n",
      "\u001b[1;32m~\\AppData\\Local\\Programs\\Python\\Python39\\lib\\site-packages\\sklearn\\utils\\validation.py\u001b[0m in \u001b[0;36mcheck_X_y\u001b[1;34m(X, y, accept_sparse, accept_large_sparse, dtype, order, copy, force_all_finite, ensure_2d, allow_nd, multi_output, ensure_min_samples, ensure_min_features, y_numeric, estimator)\u001b[0m\n\u001b[0;32m    886\u001b[0m         \u001b[0my\u001b[0m \u001b[1;33m=\u001b[0m \u001b[0my\u001b[0m\u001b[1;33m.\u001b[0m\u001b[0mastype\u001b[0m\u001b[1;33m(\u001b[0m\u001b[0mnp\u001b[0m\u001b[1;33m.\u001b[0m\u001b[0mfloat64\u001b[0m\u001b[1;33m)\u001b[0m\u001b[1;33m\u001b[0m\u001b[1;33m\u001b[0m\u001b[0m\n\u001b[0;32m    887\u001b[0m \u001b[1;33m\u001b[0m\u001b[0m\n\u001b[1;32m--> 888\u001b[1;33m     \u001b[0mcheck_consistent_length\u001b[0m\u001b[1;33m(\u001b[0m\u001b[0mX\u001b[0m\u001b[1;33m,\u001b[0m \u001b[0my\u001b[0m\u001b[1;33m)\u001b[0m\u001b[1;33m\u001b[0m\u001b[1;33m\u001b[0m\u001b[0m\n\u001b[0m\u001b[0;32m    889\u001b[0m \u001b[1;33m\u001b[0m\u001b[0m\n\u001b[0;32m    890\u001b[0m     \u001b[1;32mreturn\u001b[0m \u001b[0mX\u001b[0m\u001b[1;33m,\u001b[0m \u001b[0my\u001b[0m\u001b[1;33m\u001b[0m\u001b[1;33m\u001b[0m\u001b[0m\n",
      "\u001b[1;32m~\\AppData\\Local\\Programs\\Python\\Python39\\lib\\site-packages\\sklearn\\utils\\validation.py\u001b[0m in \u001b[0;36mcheck_consistent_length\u001b[1;34m(*arrays)\u001b[0m\n\u001b[0;32m    317\u001b[0m     \u001b[0muniques\u001b[0m \u001b[1;33m=\u001b[0m \u001b[0mnp\u001b[0m\u001b[1;33m.\u001b[0m\u001b[0munique\u001b[0m\u001b[1;33m(\u001b[0m\u001b[0mlengths\u001b[0m\u001b[1;33m)\u001b[0m\u001b[1;33m\u001b[0m\u001b[1;33m\u001b[0m\u001b[0m\n\u001b[0;32m    318\u001b[0m     \u001b[1;32mif\u001b[0m \u001b[0mlen\u001b[0m\u001b[1;33m(\u001b[0m\u001b[0muniques\u001b[0m\u001b[1;33m)\u001b[0m \u001b[1;33m>\u001b[0m \u001b[1;36m1\u001b[0m\u001b[1;33m:\u001b[0m\u001b[1;33m\u001b[0m\u001b[1;33m\u001b[0m\u001b[0m\n\u001b[1;32m--> 319\u001b[1;33m         raise ValueError(\"Found input variables with inconsistent numbers of\"\n\u001b[0m\u001b[0;32m    320\u001b[0m                          \" samples: %r\" % [int(l) for l in lengths])\n\u001b[0;32m    321\u001b[0m \u001b[1;33m\u001b[0m\u001b[0m\n",
      "\u001b[1;31mValueError\u001b[0m: Found input variables with inconsistent numbers of samples: [4, 1]"
     ]
    }
   ],
   "metadata": {}
  },
  {
   "cell_type": "code",
   "execution_count": 134,
   "source": [
    "\r\n",
    "RawDataTrain.shape\r\n",
    "\r\n",
    "x_train.shape"
   ],
   "outputs": [
    {
     "output_type": "execute_result",
     "data": {
      "text/plain": [
       "(4, 1986)"
      ]
     },
     "metadata": {},
     "execution_count": 134
    }
   ],
   "metadata": {}
  },
  {
   "cell_type": "code",
   "execution_count": 135,
   "source": [
    "y_train.shape"
   ],
   "outputs": [
    {
     "output_type": "execute_result",
     "data": {
      "text/plain": [
       "(1, 1986)"
      ]
     },
     "metadata": {},
     "execution_count": 135
    }
   ],
   "metadata": {}
  },
  {
   "cell_type": "code",
   "execution_count": 123,
   "source": [
    "y_train.T"
   ],
   "outputs": [
    {
     "output_type": "execute_result",
     "data": {
      "text/plain": [
       "array([1775.0, 1821.0, 3842.0, ..., 1367.0, 15035.0, 725.0], dtype=object)"
      ]
     },
     "metadata": {},
     "execution_count": 123
    }
   ],
   "metadata": {}
  },
  {
   "cell_type": "code",
   "execution_count": null,
   "source": [],
   "outputs": [],
   "metadata": {}
  }
 ],
 "metadata": {
  "orig_nbformat": 4,
  "language_info": {
   "name": "python",
   "version": "3.9.5",
   "mimetype": "text/x-python",
   "codemirror_mode": {
    "name": "ipython",
    "version": 3
   },
   "pygments_lexer": "ipython3",
   "nbconvert_exporter": "python",
   "file_extension": ".py"
  },
  "kernelspec": {
   "name": "python3",
   "display_name": "Python 3.9.5 64-bit"
  },
  "interpreter": {
   "hash": "f8fcbf85dd45e12290eec3b85dbe17d48e13c4e303156a7239b18cbe3c425310"
  }
 },
 "nbformat": 4,
 "nbformat_minor": 2
}